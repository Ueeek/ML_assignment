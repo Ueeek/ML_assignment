{
 "cells": [
  {
   "cell_type": "code",
   "execution_count": 1,
   "metadata": {},
   "outputs": [],
   "source": [
    "import sys\n",
    "sys.path.append(\"/Users/ueki/.pyenv/versions/3.7.3/lib/python3.7/site-packages\")"
   ]
  },
  {
   "cell_type": "code",
   "execution_count": 2,
   "metadata": {},
   "outputs": [],
   "source": [
    "import numpy as np\n",
    "import matplotlib.pyplot as plt\n",
    "from math import ceil"
   ]
  },
  {
   "cell_type": "markdown",
   "metadata": {},
   "source": [
    "# Binary classification"
   ]
  },
  {
   "cell_type": "markdown",
   "metadata": {},
   "source": [
    "## create data"
   ]
  },
  {
   "cell_type": "code",
   "execution_count": 35,
   "metadata": {},
   "outputs": [],
   "source": [
    "# prepare dataset\n",
    "np.random.seed(777)"
   ]
  },
  {
   "cell_type": "code",
   "execution_count": 36,
   "metadata": {},
   "outputs": [],
   "source": [
    "# dataset 4\n",
    "N = 200\n",
    "D=4\n",
    "x = 3 * (np.random.rand(N, 4) - 0.5)\n",
    "y = (2 * x[:, 0] - 1 * x[:,1] + 0.5 + 0.5 * np.random.randn(N)) > 0\n",
    "y = 2 * y -1\n",
    "W_init= np.ones(D)"
   ]
  },
  {
   "cell_type": "code",
   "execution_count": 37,
   "metadata": {},
   "outputs": [],
   "source": [
    "N_iter = 40"
   ]
  },
  {
   "cell_type": "code",
   "execution_count": 38,
   "metadata": {},
   "outputs": [
    {
     "data": {
      "text/plain": [
       "(200,)"
      ]
     },
     "execution_count": 38,
     "metadata": {},
     "output_type": "execute_result"
    }
   ],
   "source": [
    "y.shape"
   ]
  },
  {
   "cell_type": "code",
   "execution_count": 39,
   "metadata": {},
   "outputs": [
    {
     "data": {
      "text/plain": [
       "(200, 4)"
      ]
     },
     "execution_count": 39,
     "metadata": {},
     "output_type": "execute_result"
    }
   ],
   "source": [
    "x.shape"
   ]
  },
  {
   "cell_type": "code",
   "execution_count": 40,
   "metadata": {},
   "outputs": [
    {
     "data": {
      "text/plain": [
       "(4,)"
      ]
     },
     "execution_count": 40,
     "metadata": {},
     "output_type": "execute_result"
    }
   ],
   "source": [
    "W_init.shape"
   ]
  },
  {
   "cell_type": "markdown",
   "metadata": {},
   "source": [
    "## batch steepest gradient method"
   ]
  },
  {
   "cell_type": "markdown",
   "metadata": {},
   "source": [
    "### functions"
   ]
  },
  {
   "cell_type": "code",
   "execution_count": 44,
   "metadata": {},
   "outputs": [],
   "source": [
    "def calc_loss(x,w,y):\n",
    "    xy = x*y.reshape(-1,1)\n",
    "    posterior = 1/(1+np.exp(np.dot(-xy,ww))) # (N,1)\n",
    "    loss = np.average(np.log(1+np.exp(-y*np.dot(ww,x.T))),axis=0) #(scalar)\n",
    "    return loss"
   ]
  },
  {
   "cell_type": "code",
   "execution_count": 45,
   "metadata": {},
   "outputs": [],
   "source": [
    "def calc_grad(x,w,y):\n",
    "    xy = x*y.reshape(-1,1)\n",
    "    posterior = 1/(1+np.exp(np.dot(-xy,ww))) # (N,1)\n",
    "    grad = np.average(-xy*(1-posterior.reshape(-1,1)),axis=0) #(D,1)\n",
    "    return grad"
   ]
  },
  {
   "cell_type": "code",
   "execution_count": 43,
   "metadata": {},
   "outputs": [],
   "source": [
    "def calc_hess(x,w,y):\n",
    "    xy = x*y.reshape(-1,1)\n",
    "    posterior = 1/(1+np.exp(np.dot(-xy,ww))) # (N,1)\n",
    "    hess = np.average(xy**2*(posterior*(1-posterior)).reshape(-1,1),axis=0) #(D,1)\n",
    "    return hess"
   ]
  },
  {
   "cell_type": "markdown",
   "metadata": {},
   "source": [
    "### steepset gradient descent"
   ]
  },
  {
   "cell_type": "code",
   "execution_count": 46,
   "metadata": {},
   "outputs": [],
   "source": [
    "#epoch\n",
    "num_iter = N_iter\n",
    "#重みの初期値\n",
    "lam=0.01"
   ]
  },
  {
   "cell_type": "code",
   "execution_count": 47,
   "metadata": {},
   "outputs": [],
   "source": [
    "grad_loss_history = []\n",
    "grad_ww_history = []\n",
    "lip = np.max(x**2)\n",
    "alpha_base =1/ lip"
   ]
  },
  {
   "cell_type": "code",
   "execution_count": 48,
   "metadata": {},
   "outputs": [],
   "source": [
    "ww = W_init\n",
    "for t in range(1,num_iter+1):\n",
    "    grad = calc_grad(x,ww,y) + 2*lam*ww\n",
    "    loss = calc_loss(x,ww,y)+lam*(np.dot(ww.T,ww)+1) #(scalar)\n",
    "    #history\n",
    "    grad_ww_history.append(ww)\n",
    "    grad_loss_history.append(loss)\n",
    "    #update\n",
    "    ww = ww - alpha_base*grad"
   ]
  },
  {
   "cell_type": "code",
   "execution_count": 49,
   "metadata": {},
   "outputs": [
    {
     "data": {
      "image/png": "[encoded data removed]",
      "text/plain": [
       "<Figure size 432x288 with 1 Axes>"
      ]
     },
     "metadata": {
      "needs_background": "light"
     },
     "output_type": "display_data"
    }
   ],
   "source": [
    "plt.plot(grad_loss_history, 'b', markersize=0.5, label='steepest')\n",
    "plt.legend()\n",
    "plt.xlabel('iter')\n",
    "plt.ylabel('loss')\n",
    "plt.show()"
   ]
  },
  {
   "cell_type": "markdown",
   "metadata": {},
   "source": [
    "### newton based method"
   ]
  },
  {
   "cell_type": "code",
   "execution_count": 50,
   "metadata": {},
   "outputs": [],
   "source": [
    "#epoch\n",
    "num_iter = N_iter\n",
    "#learning history\n",
    "newton_loss_history = []\n",
    "newton_ww_history = []"
   ]
  },
  {
   "cell_type": "code",
   "execution_count": 51,
   "metadata": {},
   "outputs": [],
   "source": [
    "ww = W_init\n",
    "for t in range(1,num_iter+1):\n",
    "    grad = calc_grad(x,ww,y) + 2*lam*ww\n",
    "    loss = calc_loss(x,ww,y) + lam*(np.dot(ww.T,ww)+1)\n",
    "    hess = calc_hess(x,ww,y)\n",
    "    #history\n",
    "    newton_ww_history.append(ww)\n",
    "    newton_loss_history.append(loss)\n",
    "    #update\n",
    "    ww = ww - grad/hess"
   ]
  },
  {
   "cell_type": "code",
   "execution_count": 52,
   "metadata": {},
   "outputs": [
    {
     "data": {
      "image/png": "[encoded data removed]",
      "text/plain": [
       "<Figure size 432x288 with 1 Axes>"
      ]
     },
     "metadata": {
      "needs_background": "light"
     },
     "output_type": "display_data"
    }
   ],
   "source": [
    "plt.plot( newton_loss_history, 'bo-', linewidth=0.5, markersize=0.5, label='newton')\n",
    "plt.legend()\n",
    "plt.xlabel('iter')\n",
    "plt.ylabel('loss')\n",
    "plt.show()"
   ]
  },
  {
   "cell_type": "markdown",
   "metadata": {},
   "source": [
    "## compare performance"
   ]
  },
  {
   "cell_type": "code",
   "execution_count": 53,
   "metadata": {},
   "outputs": [],
   "source": [
    "optimal_w = min(min(grad_loss_history),min(newton_loss_history))"
   ]
  },
  {
   "cell_type": "code",
   "execution_count": 54,
   "metadata": {},
   "outputs": [
    {
     "data": {
      "image/png": "[encoded data removed]",
      "text/plain": [
       "<Figure size 432x288 with 1 Axes>"
      ]
     },
     "metadata": {
      "needs_background": "light"
     },
     "output_type": "display_data"
    }
   ],
   "source": [
    "plt.plot(np.abs(grad_loss_history-optimal_w,),\"bo-\",linewidth=0.5,markersize=1,label=\"grdient descent\")\n",
    "plt.plot(np.abs(newton_loss_history-optimal_w),\"ro-\",linewidth=0.5,markersize=1,label=\"newton descent\")\n",
    "plt.legend()\n",
    "plt.yscale(\"log\")\n",
    "plt.xlabel(\"iter\")\n",
    "plt.ylabel(\"Loss diff from the gold weight\")\n",
    "plt.show()"
   ]
  },
  {
   "cell_type": "markdown",
   "metadata": {},
   "source": [
    "# adaptation to Multi class classification"
   ]
  },
  {
   "cell_type": "markdown",
   "metadata": {},
   "source": [
    "## create Data (Toy dataset V)"
   ]
  },
  {
   "cell_type": "code",
   "execution_count": 55,
   "metadata": {},
   "outputs": [],
   "source": [
    "# dataset 5\n",
    "N = 200\n",
    "D=3\n",
    "N_class=4\n",
    "x =3* (np.random.rand(N,D) - 0.5)\n",
    "W_init = np.random.rand(N_class,D)\n",
    "y = np.argmax(np.dot(np.hstack([x[:,:N_class-2],np.ones((N,1))]),W_init.T) + 0.5*np.random.randn(N,N_class),axis=1)"
   ]
  },
  {
   "cell_type": "code",
   "execution_count": 56,
   "metadata": {},
   "outputs": [
    {
     "data": {
      "text/plain": [
       "(200, 3)"
      ]
     },
     "execution_count": 56,
     "metadata": {},
     "output_type": "execute_result"
    }
   ],
   "source": [
    "x.shape"
   ]
  },
  {
   "cell_type": "code",
   "execution_count": 57,
   "metadata": {},
   "outputs": [
    {
     "data": {
      "text/plain": [
       "(200, 3)"
      ]
     },
     "execution_count": 57,
     "metadata": {},
     "output_type": "execute_result"
    }
   ],
   "source": [
    "x = 3* (np.random.rand(N,D) - 0.5)\n",
    "x.shape"
   ]
  },
  {
   "cell_type": "code",
   "execution_count": 58,
   "metadata": {},
   "outputs": [],
   "source": [
    "def to_categorical(y):\n",
    "    \"\"\"\n",
    "    convert input vector y to one_hot_vector\n",
    "    \"\"\"\n",
    "    size = np.max(y)\n",
    "    y_one_hot = np.identity(size+1)[y]\n",
    "    return y_one_hot"
   ]
  },
  {
   "cell_type": "code",
   "execution_count": 59,
   "metadata": {},
   "outputs": [],
   "source": [
    "y_one_hot = to_categorical(y)"
   ]
  },
  {
   "cell_type": "code",
   "execution_count": 60,
   "metadata": {},
   "outputs": [],
   "source": [
    "lam = 0.01\n",
    "N_iter=50"
   ]
  },
  {
   "cell_type": "markdown",
   "metadata": {},
   "source": [
    "## classification"
   ]
  },
  {
   "cell_type": "markdown",
   "metadata": {},
   "source": [
    "### functions"
   ]
  },
  {
   "cell_type": "code",
   "execution_count": 61,
   "metadata": {},
   "outputs": [],
   "source": [
    "def softmax(w):\n",
    "    \"\"\"\n",
    "    paremeter\n",
    "    ----------------\n",
    "        w:  parameter\n",
    "    ----------------\n",
    "    return\n",
    "    -------------\n",
    "        soft_max : vec (N,D)\n",
    "    \"\"\" \n",
    "    w = w.T\n",
    "    exp_y= np.exp(w)\n",
    "    exp_sum = np.sum(np.exp(w),axis=0) #　ここは良さそう\n",
    "    ret = exp_y.T / exp_sum.reshape(-1,1)\n",
    "    return ret.T"
   ]
  },
  {
   "cell_type": "code",
   "execution_count": 62,
   "metadata": {},
   "outputs": [],
   "source": [
    "def calc_loss(x,w,ans):\n",
    "    \"\"\"\n",
    "    ans: one_hot vector\n",
    "    return\n",
    "    ----------\n",
    "    ret: scalar\n",
    "    \"\"\"\n",
    "    v1 = np.sum((np.dot(y_one_hot,w.T)*x),axis=1)\n",
    "    v2 =np.max(np.dot(x,ww.T),axis=1)\n",
    "    loss = np.average(-v1+v2)\n",
    "    return loss\n",
    "    "
   ]
  },
  {
   "cell_type": "code",
   "execution_count": 63,
   "metadata": {},
   "outputs": [],
   "source": [
    "def calc_grad(x,w,y_one_hot):\n",
    "    \"\"\"\n",
    "    ret: grad shapes like w\n",
    "    \"\"\"\n",
    "    s  = softmax(np.dot(ww,x.T))\n",
    "    ret = np.zeros_like(w)\n",
    "    #(N,D)と(N,C)から、(N,np.dot(D,C))を作る\n",
    "    #それをNについてaverage\n",
    "    ret =np.average(np.einsum(\"mij,mjk-> mik\",s.reshape(N,-1,1),x.reshape(N,1,-1)),axis=0)\n",
    "    return ret"
   ]
  },
  {
   "cell_type": "code",
   "execution_count": 64,
   "metadata": {},
   "outputs": [],
   "source": [
    "def calc_hess(x,w,y_one_hot):\n",
    "    \"\"\"\n",
    "    ret: hessian shapes like w\n",
    "    \"\"\"\n",
    "    s = softmax(np.dot(ww,x.T))\n",
    "    ret = np.zeros_like(w)\n",
    "    return ret"
   ]
  },
  {
   "cell_type": "markdown",
   "metadata": {},
   "source": [
    "## steepest gradient descent"
   ]
  },
  {
   "cell_type": "code",
   "execution_count": 65,
   "metadata": {},
   "outputs": [],
   "source": [
    "#epoch\n",
    "num_iter = N_iter\n",
    "#learning history\n",
    "steep_loss_history = []\n",
    "steep_ww_history = []\n",
    "lip = np.max(x**2)\n",
    "alpha = 1/lip"
   ]
  },
  {
   "cell_type": "code",
   "execution_count": 66,
   "metadata": {},
   "outputs": [],
   "source": [
    "ww = W_init\n",
    "for t in range(1,num_iter+1):\n",
    "    grad = calc_grad(x,ww,y_one_hot)+2*lam*ww\n",
    "    loss = calc_loss(x,ww.T,y_one_hot)\n",
    "    steep_ww_history.append(ww)\n",
    "    steep_loss_history.append(loss)\n",
    "    #update\n",
    "    ww = ww-alpha*grad"
   ]
  },
  {
   "cell_type": "code",
   "execution_count": 67,
   "metadata": {},
   "outputs": [
    {
     "data": {
      "image/png": "[encoded data removed]",
      "text/plain": [
       "<Figure size 432x288 with 1 Axes>"
      ]
     },
     "metadata": {
      "needs_background": "light"
     },
     "output_type": "display_data"
    }
   ],
   "source": [
    "plt.plot(steep_loss_history, 'b', markersize=0.5, label='steepest')\n",
    "plt.legend()\n",
    "plt.xlabel('iter')\n",
    "plt.ylabel('loss')\n",
    "plt.show()"
   ]
  },
  {
   "cell_type": "markdown",
   "metadata": {},
   "source": [
    "## Newton method"
   ]
  },
  {
   "cell_type": "code",
   "execution_count": 68,
   "metadata": {},
   "outputs": [],
   "source": [
    "#epoch\n",
    "num_iter = N_iter\n",
    "#learning history\n",
    "newton_loss_history = []\n",
    "newton_ww_history = []"
   ]
  },
  {
   "cell_type": "code",
   "execution_count": null,
   "metadata": {},
   "outputs": [],
   "source": [
    "ww = W_init\n",
    "for t in range(1,num_iter+1):\n",
    "    grad = calc_grad(x,ww,y_one_hot)+2*lam*ww # shape(ww)\n",
    "    hess = calc_hess(x,ww.T,y_one_hot) + 2*lam # shape(ww)\n",
    "    loss = calc_loss(x,ww.T,y_one_hot)  # shape(scalar)\n",
    "    steep_ww_history.append(ww)\n",
    "    steep_loss_history.append(loss)\n",
    "    #update\n",
    "    ww = ww-alpha_base*grad"
   ]
  },
  {
   "cell_type": "code",
   "execution_count": null,
   "metadata": {},
   "outputs": [],
   "source": [
    "plt.plot(newton_loss_history, 'b', markersize=0.5, label='steepest')\n",
    "plt.legend()\n",
    "plt.xlabel('iter')\n",
    "plt.ylabel('loss')\n",
    "plt.show()"
   ]
  },
  {
   "cell_type": "code",
   "execution_count": null,
   "metadata": {},
   "outputs": [],
   "source": [
    "optimal_w = min(min(steep_loss_history),min(newton_loss_history))"
   ]
  },
  {
   "cell_type": "code",
   "execution_count": null,
   "metadata": {},
   "outputs": [],
   "source": [
    "plt.plot(np.abs(steep_loss_history-optimal_w),label=\"grdient descent\")\n",
    "plt.plot(np.abs(newton_loss_history-optimal_w),label=\"newton descent\")\n",
    "plt.legend()\n",
    "plt.yscale(\"log\")\n",
    "plt.xlabel(\"iter\")\n",
    "plt.ylabel(\"Loss diff from the gold weight\")"
   ]
  },
  {
   "cell_type": "code",
   "execution_count": null,
   "metadata": {},
   "outputs": [],
   "source": []
  }
 ],
 "metadata": {
  "kernelspec": {
   "display_name": "Python 3",
   "language": "python",
   "name": "python3"
  },
  "language_info": {
   "codemirror_mode": {
    "name": "ipython",
    "version": 3
   },
   "file_extension": ".py",
   "mimetype": "text/x-python",
   "name": "python",
   "nbconvert_exporter": "python",
   "pygments_lexer": "ipython3",
   "version": "3.7.3"
  }
 },
 "nbformat": 4,
 "nbformat_minor": 2
}
