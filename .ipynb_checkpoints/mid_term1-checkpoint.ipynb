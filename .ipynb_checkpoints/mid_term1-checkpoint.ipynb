{
 "cells": [
  {
   "cell_type": "code",
   "execution_count": 118,
   "metadata": {},
   "outputs": [],
   "source": [
    "import sys\n",
    "sys.path.append(\"/Users/ueki/.pyenv/versions/3.7.3/lib/python3.7/site-packages\")"
   ]
  },
  {
   "cell_type": "code",
   "execution_count": 119,
   "metadata": {},
   "outputs": [],
   "source": [
    "import numpy as np\n",
    "import matplotlib.pyplot as plt\n",
    "from math import ceil"
   ]
  },
  {
   "cell_type": "markdown",
   "metadata": {},
   "source": [
    "## create data"
   ]
  },
  {
   "cell_type": "code",
   "execution_count": 152,
   "metadata": {},
   "outputs": [],
   "source": [
    "# prepare dataset\n",
    "np.random.seed(777)"
   ]
  },
  {
   "cell_type": "code",
   "execution_count": 153,
   "metadata": {},
   "outputs": [],
   "source": [
    "# dataset 4\n",
    "N = 200\n",
    "D=4\n",
    "x = 3 * (np.random.rand(N, 4) - 0.5)\n",
    "y = (2 * x[:, 0] - 1 * x[:,1] + 0.5 + 0.5 * np.random.randn(N)) > 0\n",
    "y = 2 * y -1"
   ]
  },
  {
   "cell_type": "code",
   "execution_count": 154,
   "metadata": {},
   "outputs": [],
   "source": [
    "N_iter = 100"
   ]
  },
  {
   "cell_type": "markdown",
   "metadata": {},
   "source": [
    "# batch steepest gradient method"
   ]
  },
  {
   "cell_type": "code",
   "execution_count": 155,
   "metadata": {},
   "outputs": [],
   "source": [
    "#epoch\n",
    "num_iter = N_iter\n",
    "#重みの初期値\n",
    "lam=0.01\n",
    "w_init= np.ones(D)\n",
    "#learning rate-> Lipsittsのuppper boundをlrにする\n",
    "alpha_base = 0.01\n",
    "#learning history\n",
    "grad_loss_history = []\n",
    "grad_ww_history = []\n",
    "# lr descent しなくていいから、いらないかも\n",
    "lip = 0.25*np.max(x**2)\n",
    "alpha_base *=1/ lip"
   ]
  },
  {
   "cell_type": "code",
   "execution_count": 156,
   "metadata": {},
   "outputs": [
    {
     "data": {
      "text/plain": [
       "0.5615094088579156"
      ]
     },
     "execution_count": 156,
     "metadata": {},
     "output_type": "execute_result"
    }
   ],
   "source": [
    "lip"
   ]
  },
  {
   "cell_type": "code",
   "execution_count": 157,
   "metadata": {},
   "outputs": [
    {
     "data": {
      "text/plain": [
       "0.0178091405811695"
      ]
     },
     "execution_count": 157,
     "metadata": {},
     "output_type": "execute_result"
    }
   ],
   "source": [
    "alpha_base"
   ]
  },
  {
   "cell_type": "code",
   "execution_count": 158,
   "metadata": {},
   "outputs": [],
   "source": [
    "ww = w_init\n",
    "for t in range(1,num_iter+1):\n",
    "    xy = x*(-y).reshape(-1,1)\n",
    "    posterior = 1/(1+np.exp(np.dot(xy,ww)))\n",
    "    grad = 1/N*np.sum(np.dot((1-posterior),xy)) + 2*lam*ww\n",
    "    loss = 1/N*np.sum(np.log(1+np.exp(np.dot(xy,ww))))+lam*(np.dot(ww.T,ww)+1)\n",
    "    grad_ww_history.append(ww)\n",
    "    grad_loss_history.append(loss)\n",
    "    #update\n",
    "    ww = ww-alpha_base*grad"
   ]
  },
  {
   "cell_type": "code",
   "execution_count": 159,
   "metadata": {},
   "outputs": [
    {
     "data": {
      "image/png": "[encoded data removed]",
      "text/plain": [
       "<Figure size 432x288 with 1 Axes>"
      ]
     },
     "metadata": {
      "needs_background": "light"
     },
     "output_type": "display_data"
    }
   ],
   "source": [
    "plt.plot(grad_loss_history, 'b', markersize=0.5, label='steepest')\n",
    "plt.legend()\n",
    "plt.xlabel('iter')\n",
    "plt.ylabel('loss')\n",
    "plt.show()"
   ]
  },
  {
   "cell_type": "code",
   "execution_count": 206,
   "metadata": {},
   "outputs": [
    {
     "data": {
      "text/plain": [
       "array([[1.08578233e+00, 3.51566188e-01, 1.72630892e+00, 1.45007296e-02],\n",
       "       [1.01155349e+00, 1.64093831e+00, 4.63715991e-01, 6.48811991e-01],\n",
       "       [4.79396712e-01, 1.86699933e-01, 1.48810777e+00, 1.58997559e+00],\n",
       "       [7.22756233e-02, 2.20879683e-01, 2.15099900e+00, 1.43959247e-01],\n",
       "       [2.97393359e-01, 2.45769712e-02, 4.80831056e-01, 1.44568648e-01],\n",
       "       [6.90919545e-01, 8.84864186e-01, 1.07620555e-01, 8.47343784e-01],\n",
       "       [1.10711112e-01, 1.31888077e+00, 1.34701091e-01, 5.48552301e-01],\n",
       "       [9.22001477e-01, 9.01006096e-01, 6.78786721e-01, 2.55746852e-03],\n",
       "       [3.07885792e-03, 9.06761494e-02, 9.57686307e-03, 2.13180397e+00],\n",
       "       [5.22610252e-03, 1.41052236e+00, 6.55620378e-01, 1.28016759e+00],\n",
       "       [3.75011613e-01, 1.12943541e-01, 4.60246052e-01, 1.19919115e-02],\n",
       "       [6.51783508e-01, 8.55822789e-01, 3.01370175e-02, 2.32057911e-02],\n",
       "       [6.94280991e-03, 7.66771472e-01, 1.33229529e+00, 2.95839932e-01],\n",
       "       [1.70568312e-01, 2.18437819e-01, 2.29352095e-02, 2.01405262e+00],\n",
       "       [6.46465867e-02, 1.60451650e+00, 1.50401597e+00, 3.07619606e-01],\n",
       "       [7.06721549e-03, 2.66063988e-01, 2.34865948e-02, 2.10539158e+00],\n",
       "       [1.46148586e+00, 3.33813228e-01, 1.01572177e+00, 5.15444510e-02],\n",
       "       [1.09479164e+00, 1.97047568e-02, 1.91572208e-01, 4.64781762e-01],\n",
       "       [1.48460813e+00, 1.38904230e+00, 2.41302149e-01, 1.38179564e+00],\n",
       "       [3.71432967e-01, 3.54090608e-01, 8.44049792e-01, 1.02582441e+00],\n",
       "       [1.62283277e-01, 3.20376474e-01, 1.99276776e+00, 9.04012771e-02],\n",
       "       [2.97247021e-03, 2.18399525e+00, 6.80366518e-01, 1.13084846e+00],\n",
       "       [1.22191259e+00, 4.05742333e-01, 2.70642955e-01, 1.48761605e+00],\n",
       "       [2.24603764e+00, 6.60404699e-01, 1.88089553e+00, 1.94812732e+00],\n",
       "       [2.03244193e+00, 7.96466272e-01, 2.91124084e-01, 1.08086815e-02],\n",
       "       [1.58773215e+00, 4.68707333e-01, 5.81300144e-01, 2.07757661e+00],\n",
       "       [3.81882522e-01, 6.78067627e-01, 6.57334892e-03, 8.17943147e-01],\n",
       "       [9.48298585e-01, 4.36270860e-01, 1.57111000e-01, 9.26961757e-03],\n",
       "       [3.70172566e-01, 1.42223631e-01, 4.68267041e-01, 9.27059178e-02],\n",
       "       [1.39833342e+00, 9.25693072e-02, 4.34173409e-03, 1.39703533e+00],\n",
       "       [1.12461182e+00, 3.04616806e-03, 1.11020971e-01, 9.75060515e-01],\n",
       "       [2.10053753e+00, 6.57568551e-01, 8.56409995e-01, 8.26593549e-01],\n",
       "       [1.33566826e+00, 1.35552362e+00, 1.39233452e+00, 6.09288784e-01],\n",
       "       [8.51526794e-01, 1.42571651e+00, 1.60058919e+00, 2.15009268e-01],\n",
       "       [1.01596991e+00, 1.69877793e+00, 1.66587902e-01, 2.60911638e-01],\n",
       "       [7.80915823e-01, 3.61920269e-01, 5.99652088e-01, 1.01327795e+00],\n",
       "       [1.43154894e-01, 6.36255356e-02, 4.94479682e-01, 3.83948820e-01],\n",
       "       [4.99953940e-01, 4.79254355e-02, 1.78435843e+00, 4.12747686e-01],\n",
       "       [2.10490265e-01, 8.70715941e-01, 8.04973070e-02, 1.67658521e-03],\n",
       "       [1.16543433e+00, 1.05748645e+00, 1.94255869e+00, 6.04273612e-04],\n",
       "       [3.04331938e-01, 9.43592390e-01, 7.38763938e-01, 1.21983661e+00],\n",
       "       [9.15553344e-02, 3.01403020e-03, 2.21280935e+00, 1.52834832e+00],\n",
       "       [4.62935736e-03, 2.20893546e+00, 2.04922986e+00, 1.66876071e+00],\n",
       "       [1.69368423e+00, 1.27111095e+00, 9.70775150e-01, 1.56512890e-01],\n",
       "       [1.84132015e+00, 9.45033672e-02, 1.49625906e-01, 3.13079485e-01],\n",
       "       [5.48846126e-01, 3.06806525e-03, 5.66037996e-02, 3.42118102e-01],\n",
       "       [4.16331369e-02, 5.20916267e-02, 2.00471520e+00, 1.46783478e+00],\n",
       "       [1.09892803e+00, 7.11142807e-01, 8.96800570e-01, 9.54775817e-01],\n",
       "       [1.56797461e+00, 1.52963958e+00, 8.08397310e-01, 9.88764993e-01],\n",
       "       [4.35862924e-01, 2.63349607e-02, 6.47855738e-01, 1.02279225e+00],\n",
       "       [6.68544449e-01, 1.08880953e-02, 1.05927429e+00, 6.45675134e-03],\n",
       "       [3.74495588e-01, 1.98265354e-01, 1.63800623e+00, 1.37167382e-03],\n",
       "       [7.89181102e-01, 7.26416943e-01, 1.07174404e+00, 3.91251490e-01],\n",
       "       [8.57123140e-02, 1.64283165e+00, 1.30506589e-01, 2.27535279e-03],\n",
       "       [4.21045675e-01, 1.96238122e-01, 9.38432982e-01, 6.60913839e-01],\n",
       "       [6.60946598e-01, 2.30773451e-01, 1.44534505e-01, 2.41779557e-02],\n",
       "       [1.58443013e+00, 7.51713977e-01, 2.08401713e-01, 2.06208331e+00],\n",
       "       [9.45795122e-01, 8.29095301e-01, 1.04834876e+00, 6.02102785e-02],\n",
       "       [3.13203151e-01, 3.14815287e-01, 1.40533492e+00, 1.52635076e-01],\n",
       "       [2.27569296e-05, 1.40537506e+00, 4.34643089e-01, 1.62766591e-01],\n",
       "       [8.52879737e-01, 2.07410241e-02, 2.05680838e+00, 3.22954915e-03],\n",
       "       [1.44738343e+00, 3.78900783e-02, 1.11132022e+00, 3.11367178e-02],\n",
       "       [1.41111172e+00, 1.29463528e+00, 2.50891828e-01, 2.53066563e-01],\n",
       "       [1.46222657e-01, 1.44785863e+00, 9.00816943e-03, 1.38456985e+00],\n",
       "       [3.16561884e-01, 2.00667763e-02, 5.75479241e-01, 1.66884464e+00],\n",
       "       [6.42010164e-01, 1.48213749e+00, 1.87479042e+00, 3.38539340e-01],\n",
       "       [4.04001154e-01, 2.11047246e+00, 1.56298981e+00, 5.89278698e-01],\n",
       "       [1.37103388e+00, 4.62093186e-01, 4.63899451e-02, 1.65626212e+00],\n",
       "       [1.68343656e+00, 2.02897022e+00, 4.63216934e-02, 1.66471556e+00],\n",
       "       [8.09532045e-01, 9.59948390e-02, 2.31571397e-01, 2.09428452e+00],\n",
       "       [4.94724673e-01, 1.70637243e-01, 3.92207573e-01, 2.14721933e+00],\n",
       "       [9.97203985e-01, 6.02570320e-01, 6.48940604e-02, 6.67625739e-01],\n",
       "       [1.11240480e-01, 9.26676010e-01, 7.89050526e-02, 5.41922140e-01],\n",
       "       [5.18084638e-05, 4.82122168e-01, 1.06719798e-03, 4.25594257e-01],\n",
       "       [6.13712868e-01, 2.19422748e+00, 3.71049356e-01, 1.18900313e+00],\n",
       "       [1.87666467e+00, 7.81549969e-01, 1.16869489e-01, 2.16504295e+00],\n",
       "       [1.67590923e+00, 2.05546770e+00, 2.01916618e+00, 2.60884419e-01],\n",
       "       [1.23475985e+00, 9.53850766e-01, 1.07964453e-01, 1.83094952e-02],\n",
       "       [1.82806412e-05, 6.60140385e-02, 1.57905927e+00, 7.35658417e-04],\n",
       "       [2.36948392e-01, 5.66243103e-01, 1.98112567e-02, 5.84072301e-01],\n",
       "       [1.51468630e+00, 8.43817645e-01, 8.98676547e-02, 1.00774258e+00],\n",
       "       [3.54909404e-01, 7.12964701e-03, 3.20929806e-02, 2.39296853e-01],\n",
       "       [1.10809656e+00, 2.76245230e-01, 3.94889942e-01, 1.41440772e+00],\n",
       "       [6.66546530e-01, 9.66672378e-01, 8.74118278e-01, 1.00999393e-01],\n",
       "       [4.76538906e-01, 1.84894078e+00, 6.89112884e-01, 1.25500145e+00],\n",
       "       [5.63680260e-01, 6.54991797e-01, 8.55256616e-01, 5.97931744e-01],\n",
       "       [7.11942863e-01, 1.23146442e-01, 8.53007657e-03, 1.27647251e+00],\n",
       "       [4.56746903e-01, 2.30438920e-02, 6.13339851e-01, 6.42193027e-06],\n",
       "       [8.50284192e-01, 9.78256152e-02, 1.77406630e-01, 1.54777547e-01],\n",
       "       [1.50184023e-01, 7.39292420e-01, 1.78692809e-03, 3.31503428e-01],\n",
       "       [1.26931672e+00, 9.14530281e-01, 8.49966907e-02, 4.71007392e-02],\n",
       "       [8.45881481e-01, 4.90207149e-02, 1.57041615e-05, 1.14539076e+00],\n",
       "       [7.80018770e-02, 1.21633966e-03, 8.68929934e-01, 2.28255357e-01],\n",
       "       [1.28037938e+00, 3.51031275e-01, 1.97645577e+00, 1.45583303e-01],\n",
       "       [3.15345159e-01, 9.15096360e-03, 1.37502570e+00, 7.90693796e-02],\n",
       "       [1.30052167e+00, 1.14986471e-01, 1.68220489e+00, 9.04608247e-01],\n",
       "       [2.00723096e+00, 2.53173150e-01, 2.15415483e+00, 2.69397679e-02],\n",
       "       [1.67568978e+00, 7.99928112e-01, 1.59818576e-02, 1.65963639e+00],\n",
       "       [1.05369060e+00, 1.59715507e+00, 5.88205026e-01, 8.17352012e-02],\n",
       "       [1.20953175e-02, 1.84382869e+00, 3.19518387e-01, 3.03537665e-02],\n",
       "       [1.93185307e+00, 5.93450152e-01, 2.77769987e-01, 2.12290161e+00],\n",
       "       [1.80217379e+00, 3.08232513e-03, 3.01691962e-01, 2.60747623e-02],\n",
       "       [1.77050609e+00, 2.75445830e-03, 1.53421608e-01, 1.74837260e+00],\n",
       "       [1.39422825e+00, 1.17875504e+00, 9.90175599e-01, 1.74205387e+00],\n",
       "       [7.18534649e-01, 7.81794267e-01, 1.10175029e-02, 8.80012596e-01],\n",
       "       [4.08878695e-04, 2.29352796e-01, 8.20093096e-02, 1.96815948e-01],\n",
       "       [6.85566092e-01, 5.20490819e-03, 1.66549638e+00, 1.39797025e-01],\n",
       "       [7.14211591e-01, 3.82190876e-01, 3.27433391e-01, 3.95342123e-01],\n",
       "       [7.66617605e-03, 4.79588760e-01, 2.09509144e-01, 1.32792906e-02],\n",
       "       [1.55518373e+00, 4.86124544e-01, 1.51171417e-01, 8.84642879e-02],\n",
       "       [1.93828339e+00, 2.17550893e-02, 8.24210714e-01, 9.99133055e-01],\n",
       "       [2.02968218e+00, 6.82111127e-01, 2.94153884e-01, 7.65083609e-01],\n",
       "       [7.36042401e-01, 8.17508356e-01, 5.26379011e-03, 2.87912528e-01],\n",
       "       [1.74411404e+00, 9.50251014e-01, 2.28438436e-01, 8.16200180e-01],\n",
       "       [1.65753358e+00, 9.50993123e-01, 4.53188363e-02, 7.07681345e-03],\n",
       "       [2.69278440e-01, 5.66483170e-03, 6.30414510e-01, 2.14429120e+00],\n",
       "       [1.68697907e+00, 4.38601373e-01, 1.67386984e-02, 1.31184964e+00],\n",
       "       [1.20489067e+00, 1.95041469e-02, 1.92508321e+00, 6.88560451e-01],\n",
       "       [1.42438837e-02, 1.76783228e+00, 9.96778556e-01, 2.15910475e-01],\n",
       "       [1.98318872e+00, 2.13362666e+00, 1.25395901e+00, 1.46993519e+00],\n",
       "       [1.42135572e+00, 1.74259243e-02, 6.37036835e-01, 1.03942657e+00],\n",
       "       [5.72156815e-01, 3.36904640e-01, 2.75495500e-02, 7.21626012e-01],\n",
       "       [1.64578309e+00, 1.17509776e-01, 3.19226278e-02, 1.27016304e+00],\n",
       "       [8.66853607e-03, 1.46628239e-01, 4.28062992e-01, 4.83935858e-01],\n",
       "       [2.18251512e+00, 1.68304448e-02, 3.42695072e-01, 4.21586051e-01],\n",
       "       [2.59041059e-01, 5.40693462e-01, 2.16314000e+00, 2.14008200e+00],\n",
       "       [2.95465522e-01, 2.00431026e-03, 1.09963397e+00, 9.71251721e-01],\n",
       "       [7.81341150e-01, 4.67534139e-01, 1.20240544e-02, 4.83635628e-01],\n",
       "       [1.95708870e+00, 1.99584989e-01, 2.50866290e-01, 4.44982631e-02],\n",
       "       [2.19000086e-02, 1.29606379e-01, 6.10480641e-01, 2.16418545e+00],\n",
       "       [1.98444596e+00, 2.13351344e-01, 2.54986750e-04, 1.53157257e-01],\n",
       "       [1.99590658e+00, 2.80773681e-01, 2.13495155e+00, 7.07092235e-01],\n",
       "       [1.46431043e+00, 5.15674725e-03, 3.77872115e-01, 1.29336544e-02],\n",
       "       [1.50271701e+00, 2.94769835e-01, 2.70937519e-01, 2.27496159e-01],\n",
       "       [8.23339777e-01, 3.54442141e-01, 6.90470109e-02, 7.08574612e-01],\n",
       "       [1.52238410e+00, 2.06616939e+00, 3.78933407e-01, 3.73666275e-02],\n",
       "       [1.45847661e+00, 5.94350727e-01, 1.31253447e+00, 8.04733204e-03],\n",
       "       [7.35849558e-01, 4.10928204e-02, 2.17764824e+00, 2.06122098e+00],\n",
       "       [4.45965194e-01, 1.46852224e-01, 1.17509796e+00, 4.30746464e-02],\n",
       "       [5.80510508e-01, 1.81973009e-01, 6.65092201e-01, 4.56131464e-01],\n",
       "       [5.40783221e-01, 2.08996808e-03, 1.41302707e+00, 1.05792028e+00],\n",
       "       [2.57857717e-02, 1.05329041e+00, 1.17070814e+00, 1.32500704e+00],\n",
       "       [7.11946568e-02, 2.23923404e+00, 1.37133221e+00, 5.12512555e-01],\n",
       "       [6.42714317e-01, 1.36756272e-03, 5.82104277e-01, 7.08703478e-02],\n",
       "       [1.12431321e+00, 9.96268181e-02, 1.10020440e+00, 1.87303181e+00],\n",
       "       [6.43848546e-01, 1.34478235e+00, 1.75741091e-04, 3.61201972e-01],\n",
       "       [4.45387349e-01, 3.38109806e-01, 1.35159762e+00, 1.45290899e+00],\n",
       "       [1.84409697e-01, 2.09686233e+00, 1.57264164e+00, 5.88294900e-01],\n",
       "       [2.81143258e-02, 2.16376291e+00, 1.87559689e-01, 1.55531702e+00],\n",
       "       [1.85081141e-01, 4.23605147e-01, 1.15378359e+00, 1.15720493e+00],\n",
       "       [2.17706898e+00, 1.18999901e+00, 7.22053023e-01, 1.90303678e+00],\n",
       "       [1.48017256e-01, 1.83596618e+00, 1.82653119e+00, 1.04842466e+00],\n",
       "       [9.44883607e-02, 1.11759710e-01, 2.20846857e+00, 8.65104213e-01],\n",
       "       [6.70118246e-03, 1.11264760e-01, 4.50767084e-01, 1.14369561e+00],\n",
       "       [3.23933669e-01, 6.28776081e-01, 1.40419845e+00, 2.18031761e+00],\n",
       "       [5.85408055e-01, 3.79413017e-05, 1.21112298e+00, 3.42034921e-01],\n",
       "       [2.02165739e-01, 2.03101646e-01, 1.00953160e+00, 1.53237059e+00],\n",
       "       [8.82866525e-01, 7.47549176e-01, 1.96121918e-01, 1.08237418e-01],\n",
       "       [9.95856435e-01, 1.23287596e+00, 1.58670451e-01, 9.56583045e-03],\n",
       "       [3.23972867e-01, 9.39918071e-01, 5.60260465e-01, 1.08616043e+00],\n",
       "       [8.49626327e-01, 1.25766322e+00, 3.01624807e-01, 1.08620418e+00],\n",
       "       [2.00363263e+00, 1.33125952e-01, 6.75231385e-04, 1.06348626e+00],\n",
       "       [2.22832424e+00, 7.55315874e-01, 2.13893893e-01, 1.13003660e-01],\n",
       "       [2.04225656e+00, 1.16152099e-01, 9.33410685e-01, 1.89284393e+00],\n",
       "       [4.55673834e-01, 1.81361283e-01, 1.83214304e+00, 3.56382976e-01],\n",
       "       [5.71209724e-03, 2.10174368e+00, 2.90137433e-01, 1.33162775e+00],\n",
       "       [2.48852031e-01, 1.62444436e+00, 2.83929280e-01, 1.08030198e+00],\n",
       "       [3.62066512e-04, 3.56091064e-01, 7.29797368e-02, 6.64950568e-01],\n",
       "       [8.98184895e-01, 2.21164956e+00, 6.97645306e-02, 3.55463850e-01],\n",
       "       [2.61717585e-01, 1.90917330e+00, 1.32509804e+00, 9.45557201e-02],\n",
       "       [1.32143348e-01, 9.13281996e-02, 6.07322123e-01, 5.96796606e-01],\n",
       "       [1.10376277e+00, 2.64935824e-01, 2.71370142e-01, 1.57694182e+00],\n",
       "       [1.20728557e-01, 1.27963823e+00, 1.93027295e-01, 3.64305325e-01],\n",
       "       [2.01631353e+00, 9.00098721e-01, 1.82108937e+00, 8.25492907e-01],\n",
       "       [1.11131157e+00, 2.08944714e+00, 7.94104310e-01, 1.61780593e+00],\n",
       "       [1.91520143e+00, 3.92589931e-01, 1.64014714e-01, 2.00571880e+00],\n",
       "       [6.24543316e-02, 1.65169842e+00, 1.12174651e-01, 2.18173233e-01],\n",
       "       [3.30827054e-01, 3.97701804e-01, 3.65487311e-01, 2.04018080e+00],\n",
       "       [2.92154668e-02, 1.90379076e+00, 4.64871690e-04, 1.04431829e+00],\n",
       "       [2.19030279e-03, 4.91579782e-04, 5.39751360e-02, 4.53059803e-01],\n",
       "       [6.53645754e-01, 2.88277238e-01, 1.17529334e+00, 1.42374814e+00],\n",
       "       [3.53193561e-01, 1.15617793e-03, 4.73186542e-02, 2.00091508e+00],\n",
       "       [6.07082705e-02, 1.22306488e+00, 1.92074343e-01, 1.96155761e-02],\n",
       "       [1.72450128e+00, 2.14314624e-01, 1.46030144e-02, 2.94061097e-01],\n",
       "       [5.50373321e-02, 1.20514427e+00, 1.66692431e+00, 3.02823607e-01],\n",
       "       [1.63773298e-01, 3.38393657e-01, 1.24874070e+00, 2.17778009e+00],\n",
       "       [1.39169350e-01, 1.41561667e+00, 1.28537936e+00, 4.75468935e-01],\n",
       "       [1.43328720e-01, 1.34507117e-01, 8.93909824e-03, 6.62088976e-02],\n",
       "       [1.11296822e-02, 7.97072565e-01, 1.09929947e-01, 6.10043497e-01],\n",
       "       [8.96271901e-01, 6.32127476e-02, 1.36742755e+00, 6.84998475e-01],\n",
       "       [1.40637963e-01, 1.95379647e+00, 4.28588781e-01, 2.22985273e+00],\n",
       "       [8.26414518e-01, 1.49488639e+00, 1.07389860e+00, 2.16495988e-01],\n",
       "       [8.84725863e-01, 1.43545922e-01, 7.43214502e-01, 7.77703174e-01],\n",
       "       [2.56762372e-01, 1.51444602e+00, 1.70285642e+00, 7.68390543e-06],\n",
       "       [7.89881126e-01, 1.88097738e-01, 4.74085229e-02, 6.18072124e-01],\n",
       "       [1.50928122e-02, 8.65984366e-01, 7.77406231e-01, 1.83308004e-02],\n",
       "       [2.16986948e-01, 9.92444708e-03, 2.11425949e+00, 5.27150601e-02],\n",
       "       [1.16434614e-01, 1.31235321e+00, 3.01678546e-01, 1.98463085e-01],\n",
       "       [9.68350494e-01, 8.96132880e-03, 6.74806525e-02, 1.42571571e+00],\n",
       "       [6.28046659e-03, 1.44433236e+00, 9.54668287e-03, 1.89154096e-02]])"
      ]
     },
     "execution_count": 206,
     "metadata": {},
     "output_type": "execute_result"
    }
   ],
   "source": [
    "x**2"
   ]
  },
  {
   "cell_type": "code",
   "execution_count": 212,
   "metadata": {},
   "outputs": [
    {
     "data": {
      "text/plain": [
       "(200,)"
      ]
     },
     "execution_count": 212,
     "metadata": {},
     "output_type": "execute_result"
    }
   ],
   "source": [
    "np.sum(np.dot(xy,xy.T),axis=1).shape"
   ]
  },
  {
   "cell_type": "code",
   "execution_count": 218,
   "metadata": {},
   "outputs": [],
   "source": [
    "p = posterior.reshape(-1,1)"
   ]
  },
  {
   "cell_type": "code",
   "execution_count": 223,
   "metadata": {},
   "outputs": [
    {
     "data": {
      "text/plain": [
       "(200,)"
      ]
     },
     "execution_count": 223,
     "metadata": {},
     "output_type": "execute_result"
    }
   ],
   "source": [
    "np.sum(np.dot(p,p.T),axis=1).shape"
   ]
  },
  {
   "cell_type": "code",
   "execution_count": 197,
   "metadata": {},
   "outputs": [
    {
     "data": {
      "text/plain": [
       "(200, 1)"
      ]
     },
     "execution_count": 197,
     "metadata": {},
     "output_type": "execute_result"
    }
   ],
   "source": [
    "posterior.shape\n",
    "p = posterior.reshape(-1,1)\n",
    "p.shape"
   ]
  },
  {
   "cell_type": "code",
   "execution_count": 199,
   "metadata": {},
   "outputs": [
    {
     "data": {
      "text/plain": [
       "(200, 200)"
      ]
     },
     "execution_count": 199,
     "metadata": {},
     "output_type": "execute_result"
    }
   ],
   "source": [
    "np.dot(p,p.T).shape"
   ]
  },
  {
   "cell_type": "markdown",
   "metadata": {},
   "source": [
    "# newton based method"
   ]
  },
  {
   "cell_type": "code",
   "execution_count": 195,
   "metadata": {},
   "outputs": [],
   "source": [
    "#epoch\n",
    "num_iter = N_iter\n",
    "#learning history\n",
    "newton_loss_history = []\n",
    "newton_ww_history = []"
   ]
  },
  {
   "cell_type": "code",
   "execution_count": 213,
   "metadata": {},
   "outputs": [
    {
     "ename": "AxisError",
     "evalue": "axis 1 is out of bounds for array of dimension 0",
     "output_type": "error",
     "traceback": [
      "\u001b[0;31m---------------------------------------------------------------------------\u001b[0m",
      "\u001b[0;31mAxisError\u001b[0m                                 Traceback (most recent call last)",
      "\u001b[0;32m<ipython-input-213-e09d3e3eb3dc>\u001b[0m in \u001b[0;36m<module>\u001b[0;34m\u001b[0m\n\u001b[1;32m      4\u001b[0m     \u001b[0mposterior\u001b[0m \u001b[0;34m=\u001b[0m \u001b[0;36m1\u001b[0m\u001b[0;34m/\u001b[0m\u001b[0;34m(\u001b[0m\u001b[0;36m1\u001b[0m\u001b[0;34m+\u001b[0m\u001b[0mnp\u001b[0m\u001b[0;34m.\u001b[0m\u001b[0mexp\u001b[0m\u001b[0;34m(\u001b[0m\u001b[0mnp\u001b[0m\u001b[0;34m.\u001b[0m\u001b[0mdot\u001b[0m\u001b[0;34m(\u001b[0m\u001b[0mxy\u001b[0m\u001b[0;34m,\u001b[0m\u001b[0mww\u001b[0m\u001b[0;34m)\u001b[0m\u001b[0;34m)\u001b[0m\u001b[0;34m)\u001b[0m\u001b[0;34m\u001b[0m\u001b[0;34m\u001b[0m\u001b[0m\n\u001b[1;32m      5\u001b[0m     \u001b[0mgrad\u001b[0m \u001b[0;34m=\u001b[0m \u001b[0;36m1\u001b[0m\u001b[0;34m/\u001b[0m\u001b[0mN\u001b[0m\u001b[0;34m*\u001b[0m\u001b[0mnp\u001b[0m\u001b[0;34m.\u001b[0m\u001b[0msum\u001b[0m\u001b[0;34m(\u001b[0m\u001b[0mnp\u001b[0m\u001b[0;34m.\u001b[0m\u001b[0mdot\u001b[0m\u001b[0;34m(\u001b[0m\u001b[0;34m(\u001b[0m\u001b[0;36m1\u001b[0m\u001b[0;34m-\u001b[0m\u001b[0mposterior\u001b[0m\u001b[0;34m)\u001b[0m\u001b[0;34m,\u001b[0m\u001b[0mxy\u001b[0m\u001b[0;34m)\u001b[0m\u001b[0;34m)\u001b[0m \u001b[0;34m+\u001b[0m \u001b[0;36m2\u001b[0m\u001b[0;34m*\u001b[0m\u001b[0mlam\u001b[0m\u001b[0;34m*\u001b[0m\u001b[0mww\u001b[0m\u001b[0;34m\u001b[0m\u001b[0;34m\u001b[0m\u001b[0m\n\u001b[0;32m----> 6\u001b[0;31m     \u001b[0mhess\u001b[0m \u001b[0;34m=\u001b[0m \u001b[0;36m1\u001b[0m\u001b[0;34m/\u001b[0m\u001b[0mN\u001b[0m\u001b[0;34m*\u001b[0m\u001b[0mnp\u001b[0m\u001b[0;34m.\u001b[0m\u001b[0msum\u001b[0m\u001b[0;34m(\u001b[0m\u001b[0mnp\u001b[0m\u001b[0;34m.\u001b[0m\u001b[0msum\u001b[0m\u001b[0;34m(\u001b[0m\u001b[0mnp\u001b[0m\u001b[0;34m.\u001b[0m\u001b[0mdot\u001b[0m\u001b[0;34m(\u001b[0m\u001b[0mposterior\u001b[0m\u001b[0;34m,\u001b[0m\u001b[0;34m(\u001b[0m\u001b[0;36m1\u001b[0m\u001b[0;34m-\u001b[0m\u001b[0mposterior\u001b[0m\u001b[0;34m)\u001b[0m\u001b[0;34m.\u001b[0m\u001b[0mT\u001b[0m\u001b[0;34m)\u001b[0m\u001b[0;34m,\u001b[0m\u001b[0maxis\u001b[0m\u001b[0;34m=\u001b[0m\u001b[0;36m1\u001b[0m\u001b[0;34m)\u001b[0m \u001b[0;34m+\u001b[0m \u001b[0mnp\u001b[0m\u001b[0;34m.\u001b[0m\u001b[0msum\u001b[0m\u001b[0;34m(\u001b[0m\u001b[0mnp\u001b[0m\u001b[0;34m.\u001b[0m\u001b[0mdot\u001b[0m\u001b[0;34m(\u001b[0m\u001b[0mxy\u001b[0m\u001b[0;34m,\u001b[0m\u001b[0mxy\u001b[0m\u001b[0;34m.\u001b[0m\u001b[0mT\u001b[0m\u001b[0;34m)\u001b[0m\u001b[0;34m,\u001b[0m\u001b[0maxis\u001b[0m\u001b[0;34m=\u001b[0m\u001b[0;36m1\u001b[0m\u001b[0;34m)\u001b[0m\u001b[0;34m)\u001b[0m\u001b[0;34m+\u001b[0m\u001b[0;36m2\u001b[0m\u001b[0;34m*\u001b[0m\u001b[0mlam\u001b[0m\u001b[0;34m\u001b[0m\u001b[0;34m\u001b[0m\u001b[0m\n\u001b[0m\u001b[1;32m      7\u001b[0m     \u001b[0mloss\u001b[0m \u001b[0;34m=\u001b[0m \u001b[0;36m1\u001b[0m\u001b[0;34m/\u001b[0m\u001b[0mN\u001b[0m\u001b[0;34m*\u001b[0m\u001b[0mnp\u001b[0m\u001b[0;34m.\u001b[0m\u001b[0msum\u001b[0m\u001b[0;34m(\u001b[0m\u001b[0mnp\u001b[0m\u001b[0;34m.\u001b[0m\u001b[0mlog\u001b[0m\u001b[0;34m(\u001b[0m\u001b[0;36m1\u001b[0m\u001b[0;34m+\u001b[0m\u001b[0mnp\u001b[0m\u001b[0;34m.\u001b[0m\u001b[0mexp\u001b[0m\u001b[0;34m(\u001b[0m\u001b[0mnp\u001b[0m\u001b[0;34m.\u001b[0m\u001b[0mdot\u001b[0m\u001b[0;34m(\u001b[0m\u001b[0mxy\u001b[0m\u001b[0;34m,\u001b[0m\u001b[0mww\u001b[0m\u001b[0;34m)\u001b[0m\u001b[0;34m)\u001b[0m\u001b[0;34m)\u001b[0m\u001b[0;34m)\u001b[0m\u001b[0;34m+\u001b[0m\u001b[0mlam\u001b[0m\u001b[0;34m*\u001b[0m\u001b[0;34m(\u001b[0m\u001b[0mnp\u001b[0m\u001b[0;34m.\u001b[0m\u001b[0mdot\u001b[0m\u001b[0;34m(\u001b[0m\u001b[0mww\u001b[0m\u001b[0;34m.\u001b[0m\u001b[0mT\u001b[0m\u001b[0;34m,\u001b[0m\u001b[0mww\u001b[0m\u001b[0;34m)\u001b[0m\u001b[0;34m+\u001b[0m\u001b[0;36m1\u001b[0m\u001b[0;34m)\u001b[0m\u001b[0;34m\u001b[0m\u001b[0;34m\u001b[0m\u001b[0m\n\u001b[1;32m      8\u001b[0m     \u001b[0mnewton_ww_history\u001b[0m\u001b[0;34m.\u001b[0m\u001b[0mappend\u001b[0m\u001b[0;34m(\u001b[0m\u001b[0mww\u001b[0m\u001b[0;34m)\u001b[0m\u001b[0;34m\u001b[0m\u001b[0;34m\u001b[0m\u001b[0m\n",
      "\u001b[0;32m~/.pyenv/versions/3.7.3/lib/python3.7/site-packages/numpy/core/fromnumeric.py\u001b[0m in \u001b[0;36msum\u001b[0;34m(a, axis, dtype, out, keepdims, initial)\u001b[0m\n\u001b[1;32m   2074\u001b[0m \u001b[0;34m\u001b[0m\u001b[0m\n\u001b[1;32m   2075\u001b[0m     return _wrapreduction(a, np.add, 'sum', axis, dtype, out, keepdims=keepdims,\n\u001b[0;32m-> 2076\u001b[0;31m                           initial=initial)\n\u001b[0m\u001b[1;32m   2077\u001b[0m \u001b[0;34m\u001b[0m\u001b[0m\n\u001b[1;32m   2078\u001b[0m \u001b[0;34m\u001b[0m\u001b[0m\n",
      "\u001b[0;32m~/.pyenv/versions/3.7.3/lib/python3.7/site-packages/numpy/core/fromnumeric.py\u001b[0m in \u001b[0;36m_wrapreduction\u001b[0;34m(obj, ufunc, method, axis, dtype, out, **kwargs)\u001b[0m\n\u001b[1;32m     82\u001b[0m                 \u001b[0;32mreturn\u001b[0m \u001b[0mreduction\u001b[0m\u001b[0;34m(\u001b[0m\u001b[0maxis\u001b[0m\u001b[0;34m=\u001b[0m\u001b[0maxis\u001b[0m\u001b[0;34m,\u001b[0m \u001b[0mdtype\u001b[0m\u001b[0;34m=\u001b[0m\u001b[0mdtype\u001b[0m\u001b[0;34m,\u001b[0m \u001b[0mout\u001b[0m\u001b[0;34m=\u001b[0m\u001b[0mout\u001b[0m\u001b[0;34m,\u001b[0m \u001b[0;34m**\u001b[0m\u001b[0mpasskwargs\u001b[0m\u001b[0;34m)\u001b[0m\u001b[0;34m\u001b[0m\u001b[0;34m\u001b[0m\u001b[0m\n\u001b[1;32m     83\u001b[0m             \u001b[0;32melse\u001b[0m\u001b[0;34m:\u001b[0m\u001b[0;34m\u001b[0m\u001b[0;34m\u001b[0m\u001b[0m\n\u001b[0;32m---> 84\u001b[0;31m                 \u001b[0;32mreturn\u001b[0m \u001b[0mreduction\u001b[0m\u001b[0;34m(\u001b[0m\u001b[0maxis\u001b[0m\u001b[0;34m=\u001b[0m\u001b[0maxis\u001b[0m\u001b[0;34m,\u001b[0m \u001b[0mout\u001b[0m\u001b[0;34m=\u001b[0m\u001b[0mout\u001b[0m\u001b[0;34m,\u001b[0m \u001b[0;34m**\u001b[0m\u001b[0mpasskwargs\u001b[0m\u001b[0;34m)\u001b[0m\u001b[0;34m\u001b[0m\u001b[0;34m\u001b[0m\u001b[0m\n\u001b[0m\u001b[1;32m     85\u001b[0m \u001b[0;34m\u001b[0m\u001b[0m\n\u001b[1;32m     86\u001b[0m     \u001b[0;32mreturn\u001b[0m \u001b[0mufunc\u001b[0m\u001b[0;34m.\u001b[0m\u001b[0mreduce\u001b[0m\u001b[0;34m(\u001b[0m\u001b[0mobj\u001b[0m\u001b[0;34m,\u001b[0m \u001b[0maxis\u001b[0m\u001b[0;34m,\u001b[0m \u001b[0mdtype\u001b[0m\u001b[0;34m,\u001b[0m \u001b[0mout\u001b[0m\u001b[0;34m,\u001b[0m \u001b[0;34m**\u001b[0m\u001b[0mpasskwargs\u001b[0m\u001b[0;34m)\u001b[0m\u001b[0;34m\u001b[0m\u001b[0;34m\u001b[0m\u001b[0m\n",
      "\u001b[0;32m~/.pyenv/versions/3.7.3/lib/python3.7/site-packages/numpy/core/_methods.py\u001b[0m in \u001b[0;36m_sum\u001b[0;34m(a, axis, dtype, out, keepdims, initial)\u001b[0m\n\u001b[1;32m     34\u001b[0m def _sum(a, axis=None, dtype=None, out=None, keepdims=False,\n\u001b[1;32m     35\u001b[0m          initial=_NoValue):\n\u001b[0;32m---> 36\u001b[0;31m     \u001b[0;32mreturn\u001b[0m \u001b[0mumr_sum\u001b[0m\u001b[0;34m(\u001b[0m\u001b[0ma\u001b[0m\u001b[0;34m,\u001b[0m \u001b[0maxis\u001b[0m\u001b[0;34m,\u001b[0m \u001b[0mdtype\u001b[0m\u001b[0;34m,\u001b[0m \u001b[0mout\u001b[0m\u001b[0;34m,\u001b[0m \u001b[0mkeepdims\u001b[0m\u001b[0;34m,\u001b[0m \u001b[0minitial\u001b[0m\u001b[0;34m)\u001b[0m\u001b[0;34m\u001b[0m\u001b[0;34m\u001b[0m\u001b[0m\n\u001b[0m\u001b[1;32m     37\u001b[0m \u001b[0;34m\u001b[0m\u001b[0m\n\u001b[1;32m     38\u001b[0m def _prod(a, axis=None, dtype=None, out=None, keepdims=False,\n",
      "\u001b[0;31mAxisError\u001b[0m: axis 1 is out of bounds for array of dimension 0"
     ]
    }
   ],
   "source": [
    "ww = w_init\n",
    "for t in range(1,num_iter+1):\n",
    "    xy = x*(-y).reshape(-1,1)\n",
    "    posterior = 1/(1+np.exp(np.dot(xy,ww)))\n",
    "    grad = 1/N*np.sum(np.dot((1-posterior),xy)) + 2*lam*ww\n",
    "    \n",
    "    p = posterior.reshape(-1,1)\n",
    "    hess = 1/N*np.sum( + np.sum(np.dot(xy,xy.T),axis=1))+2*lam \n",
    "    loss = 1/N*np.sum(np.log(1+np.exp(np.dot(xy,ww))))+lam*(np.dot(ww.T,ww)+1)\n",
    "    newton_ww_history.append(ww)\n",
    "    newton_loss_history.append(loss)\n",
    "    \n",
    "    #update\n",
    "    ww = ww -grad/hess"
   ]
  },
  {
   "cell_type": "code",
   "execution_count": 182,
   "metadata": {},
   "outputs": [
    {
     "data": {
      "image/png": "[encoded data removed]",
      "text/plain": [
       "<Figure size 432x288 with 1 Axes>"
      ]
     },
     "metadata": {
      "needs_background": "light"
     },
     "output_type": "display_data"
    }
   ],
   "source": [
    "plt.plot( newton_loss_history, 'bo-', linewidth=0.5, markersize=0.5, label='newton')\n",
    "plt.legend()\n",
    "plt.xlabel('iter')\n",
    "plt.ylabel('loss')\n",
    "plt.show()"
   ]
  },
  {
   "cell_type": "markdown",
   "metadata": {},
   "source": [
    "# compare performance"
   ]
  },
  {
   "cell_type": "code",
   "execution_count": 146,
   "metadata": {},
   "outputs": [],
   "source": [
    "optimal_w = min(min(grad_loss_history),min(newton_loss_history))"
   ]
  },
  {
   "cell_type": "code",
   "execution_count": 147,
   "metadata": {},
   "outputs": [
    {
     "data": {
      "image/png": "[encoded data removed]",
      "text/plain": [
       "<Figure size 432x288 with 1 Axes>"
      ]
     },
     "metadata": {
      "needs_background": "light"
     },
     "output_type": "display_data"
    }
   ],
   "source": [
    "plt.plot(np.abs(grad_loss_history-optimal_w,),\"bo-\",markersize=0.5,label=\"grdient descent\")\n",
    "plt.plot(np.abs(newton_loss_history-optimal_w),\"ro-\",markersize=0.5,label=\"newton descent\")\n",
    "plt.legend()\n",
    "plt.yscale(\"log\")\n",
    "plt.xlabel(\"iter\")\n",
    "plt.ylabel(\"Loss diff from the gold weight\")\n",
    "plt.show()"
   ]
  },
  {
   "cell_type": "markdown",
   "metadata": {},
   "source": [
    "# adaptation to Multi class classification"
   ]
  },
  {
   "cell_type": "markdown",
   "metadata": {},
   "source": [
    "## create Data (Toy dataset V)"
   ]
  },
  {
   "cell_type": "code",
   "execution_count": 629,
   "metadata": {},
   "outputs": [],
   "source": [
    "# dataset 5\n",
    "N = 200\n",
    "D=4\n",
    "n_class=3\n",
    "x =3* (np.random.rand(N,3) - 0.5)\n",
    "W_init = np.random.rand(D-1,D-1)\n",
    "y = np.argmax(np.dot(np.hstack([x[:,:2], np.ones((N, 1))]), W.T)\n",
    "                        + 0.5 * np.random.randn(N, n_class), axis=1)"
   ]
  },
  {
   "cell_type": "code",
   "execution_count": 630,
   "metadata": {},
   "outputs": [],
   "source": [
    "from keras.utils import np_utils"
   ]
  },
  {
   "cell_type": "code",
   "execution_count": 631,
   "metadata": {},
   "outputs": [],
   "source": [
    "y_one_hot =np_utils.to_categorical(y)"
   ]
  },
  {
   "cell_type": "code",
   "execution_count": 632,
   "metadata": {},
   "outputs": [],
   "source": [
    "lam = 0.01\n",
    "N_iter=50"
   ]
  },
  {
   "cell_type": "markdown",
   "metadata": {},
   "source": [
    "## Steep Gradient"
   ]
  },
  {
   "cell_type": "code",
   "execution_count": 638,
   "metadata": {},
   "outputs": [],
   "source": [
    "#epoch\n",
    "num_iter = N_iter\n",
    "#learning history\n",
    "steep_loss_history = []\n",
    "steep_ww_history = []"
   ]
  },
  {
   "cell_type": "code",
   "execution_count": 639,
   "metadata": {},
   "outputs": [],
   "source": [
    "ww = W_init\n",
    "for t in range(1,num_iter+1):\n",
    "    posterior = 1/(1+np.exp(-np.dot(y_one_hot.T,(np.dot(x,ww))))) # \\in (N,))\n",
    "    grad = 1/N*np.sum(np.dot((1-posterior),np.dot(x.T,y_one_hot ))) + 2*lam*ww # \\in D\n",
    "    loss =  1/N*np.sum(-np.dot(y_one_hot,ww) + np.max(np.dot(ww,x.T),axis=1))\n",
    "    steep_ww_history.append(ww)\n",
    "    steep_loss_history.append(loss)\n",
    "    #update\n",
    "    ww = ww-alpha_base*grad"
   ]
  },
  {
   "cell_type": "code",
   "execution_count": 640,
   "metadata": {},
   "outputs": [
    {
     "data": {
      "image/png": "[encoded data removed]",
      "text/plain": [
       "<Figure size 432x288 with 1 Axes>"
      ]
     },
     "metadata": {
      "needs_background": "light"
     },
     "output_type": "display_data"
    }
   ],
   "source": [
    "\n",
    "plt.plot(steep_loss_history, 'b', markersize=0.5, label='steepest')\n",
    "plt.legend()\n",
    "plt.xlabel('iter')\n",
    "plt.ylabel('loss')\n",
    "plt.show()"
   ]
  },
  {
   "cell_type": "markdown",
   "metadata": {},
   "source": [
    "## Newton"
   ]
  },
  {
   "cell_type": "code",
   "execution_count": 649,
   "metadata": {},
   "outputs": [],
   "source": [
    "#epoch\n",
    "num_iter = N_iter\n",
    "#learning history\n",
    "newton_loss_history = []\n",
    "newton_ww_history = []"
   ]
  },
  {
   "cell_type": "code",
   "execution_count": 650,
   "metadata": {},
   "outputs": [
    {
     "name": "stderr",
     "output_type": "stream",
     "text": [
      "/Users/ueki/.pyenv/versions/3.7.3/lib/python3.7/site-packages/ipykernel_launcher.py:3: RuntimeWarning: overflow encountered in exp\n",
      "  This is separate from the ipykernel package so we can avoid doing imports until\n"
     ]
    }
   ],
   "source": [
    "ww = W_init\n",
    "for t in range(1,num_iter+1):\n",
    "    posterior = 1/(1+np.exp(-np.dot(y_one_hot.T,(np.dot(x,ww))))) # \\in (N,))\n",
    "    grad = 1/N*np.sum(np.dot((1-posterior),np.dot(x.T,y_one_hot ))) + 2*lam*ww # \\in D\n",
    "    hess = 1/N*np.sum(np.dot(np.dot(posterior.T,(1-posterior)), np.dot(x.T,x)),axis=1)\n",
    "    loss =  1/N*np.sum(-np.dot(y_one_hot,ww) + np.max(np.dot(ww,x.T),axis=1))\n",
    "    newton_ww_history.append(ww)\n",
    "    newton_loss_history.append(loss)\n",
    "    #update\n",
    "    ww = ww-grad/hess"
   ]
  },
  {
   "cell_type": "code",
   "execution_count": 651,
   "metadata": {},
   "outputs": [],
   "source": [
    "hess = 1/N*np.sum(np.dot(np.dot(posterior.T,(1-posterior)), np.dot(x.T,x)),axis=1)"
   ]
  },
  {
   "cell_type": "code",
   "execution_count": 652,
   "metadata": {},
   "outputs": [
    {
     "data": {
      "text/plain": [
       "(3,)"
      ]
     },
     "execution_count": 652,
     "metadata": {},
     "output_type": "execute_result"
    }
   ],
   "source": [
    "hess.shape"
   ]
  },
  {
   "cell_type": "code",
   "execution_count": 653,
   "metadata": {},
   "outputs": [
    {
     "data": {
      "text/plain": [
       "(3, 3)"
      ]
     },
     "execution_count": 653,
     "metadata": {},
     "output_type": "execute_result"
    }
   ],
   "source": [
    "grad.shape"
   ]
  },
  {
   "cell_type": "code",
   "execution_count": 655,
   "metadata": {},
   "outputs": [
    {
     "data": {
      "image/png": "[encoded data removed]",
      "text/plain": [
       "<Figure size 432x288 with 1 Axes>"
      ]
     },
     "metadata": {
      "needs_background": "light"
     },
     "output_type": "display_data"
    }
   ],
   "source": [
    "plt.plot(newton_loss_history, 'b', markersize=0.5, label='steepest')\n",
    "plt.legend()\n",
    "plt.xlabel('iter')\n",
    "plt.ylabel('loss')\n",
    "plt.show()"
   ]
  },
  {
   "cell_type": "code",
   "execution_count": 656,
   "metadata": {},
   "outputs": [],
   "source": [
    "optimal_w = min(min(steep_loss_history),min(newton_loss_history))"
   ]
  },
  {
   "cell_type": "code",
   "execution_count": 657,
   "metadata": {},
   "outputs": [
    {
     "data": {
      "text/plain": [
       "Text(0, 0.5, 'Loss diff from the gold weight')"
      ]
     },
     "execution_count": 657,
     "metadata": {},
     "output_type": "execute_result"
    },
    {
     "data": {
      "image/png": "[encoded data removed]",
      "text/plain": [
       "<Figure size 432x288 with 1 Axes>"
      ]
     },
     "metadata": {
      "needs_background": "light"
     },
     "output_type": "display_data"
    }
   ],
   "source": [
    "plt.plot(np.abs(steep_loss_history-optimal_w),label=\"grdient descent\")\n",
    "plt.plot(np.abs(newton_loss_history-optimal_w),label=\"newton descent\")\n",
    "plt.legend()\n",
    "plt.yscale(\"log\")\n",
    "plt.xlabel(\"iter\")\n",
    "plt.ylabel(\"Loss diff from the gold weight\")"
   ]
  },
  {
   "cell_type": "code",
   "execution_count": null,
   "metadata": {},
   "outputs": [],
   "source": []
  }
 ],
 "metadata": {
  "kernelspec": {
   "display_name": "Python 3",
   "language": "python",
   "name": "python3"
  },
  "language_info": {
   "codemirror_mode": {
    "name": "ipython",
    "version": 3
   },
   "file_extension": ".py",
   "mimetype": "text/x-python",
   "name": "python",
   "nbconvert_exporter": "python",
   "pygments_lexer": "ipython3",
   "version": "3.7.3"
  }
 },
 "nbformat": 4,
 "nbformat_minor": 2
}
