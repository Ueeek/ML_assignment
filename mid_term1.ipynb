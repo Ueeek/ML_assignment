{
 "cells": [
  {
   "cell_type": "code",
   "execution_count": 118,
   "metadata": {},
   "outputs": [],
   "source": [
    "import sys\n",
    "sys.path.append(\"/Users/ueki/.pyenv/versions/3.7.3/lib/python3.7/site-packages\")"
   ]
  },
  {
   "cell_type": "code",
   "execution_count": 119,
   "metadata": {},
   "outputs": [],
   "source": [
    "import numpy as np\n",
    "import matplotlib.pyplot as plt\n",
    "from math import ceil"
   ]
  },
  {
   "cell_type": "markdown",
   "metadata": {},
   "source": [
    "## create data"
   ]
  },
  {
   "cell_type": "code",
   "execution_count": 152,
   "metadata": {},
   "outputs": [],
   "source": [
    "# prepare dataset\n",
    "np.random.seed(777)"
   ]
  },
  {
   "cell_type": "code",
   "execution_count": 153,
   "metadata": {},
   "outputs": [],
   "source": [
    "# dataset 4\n",
    "N = 200\n",
    "D=4\n",
    "x = 3 * (np.random.rand(N, 4) - 0.5)\n",
    "y = (2 * x[:, 0] - 1 * x[:,1] + 0.5 + 0.5 * np.random.randn(N)) > 0\n",
    "y = 2 * y -1"
   ]
  },
  {
   "cell_type": "code",
   "execution_count": 154,
   "metadata": {},
   "outputs": [],
   "source": [
    "N_iter = 100"
   ]
  },
  {
   "cell_type": "markdown",
   "metadata": {},
   "source": [
    "# batch steepest gradient method"
   ]
  },
  {
   "cell_type": "code",
   "execution_count": 155,
   "metadata": {},
   "outputs": [],
   "source": [
    "#epoch\n",
    "num_iter = N_iter\n",
    "#重みの初期値\n",
    "lam=0.01\n",
    "w_init= np.ones(D)\n",
    "#learning rate-> Lipsittsのuppper boundをlrにする\n",
    "alpha_base = 0.01\n",
    "#learning history\n",
    "grad_loss_history = []\n",
    "grad_ww_history = []\n",
    "# lr descent しなくていいから、いらないかも\n",
    "lip = 0.25*np.max(x**2)\n",
    "alpha_base *=1/ lip"
   ]
  },
  {
   "cell_type": "code",
   "execution_count": 156,
   "metadata": {},
   "outputs": [
    {
     "data": {
      "text/plain": [
       "0.5615094088579156"
      ]
     },
     "execution_count": 156,
     "metadata": {},
     "output_type": "execute_result"
    }
   ],
   "source": [
    "lip"
   ]
  },
  {
   "cell_type": "code",
   "execution_count": 157,
   "metadata": {},
   "outputs": [
    {
     "data": {
      "text/plain": [
       "0.0178091405811695"
      ]
     },
     "execution_count": 157,
     "metadata": {},
     "output_type": "execute_result"
    }
   ],
   "source": [
    "alpha_base"
   ]
  },
  {
   "cell_type": "code",
   "execution_count": 158,
   "metadata": {},
   "outputs": [],
   "source": [
    "ww = w_init\n",
    "for t in range(1,num_iter+1):\n",
    "    xy = x*(-y).reshape(-1,1)\n",
    "    posterior = 1/(1+np.exp(np.dot(xy,ww)))\n",
    "    grad = 1/N*np.sum(np.dot((1-posterior),xy)) + 2*lam*ww\n",
    "    loss = 1/N*np.sum(np.log(1+np.exp(np.dot(xy,ww))))+lam*(np.dot(ww.T,ww)+1)\n",
    "    grad_ww_history.append(ww)\n",
    "    grad_loss_history.append(loss)\n",
    "    #update\n",
    "    ww = ww-alpha_base*grad"
   ]
  },
  {
   "cell_type": "code",
   "execution_count": 159,
   "metadata": {},
   "outputs": [
    {
     "data": {
      "image/png": "[encoded data removed]",
      "text/plain": [
       "<Figure size 432x288 with 1 Axes>"
      ]
     },
     "metadata": {
      "needs_background": "light"
     },
     "output_type": "display_data"
    }
   ],
   "source": [
    "plt.plot(grad_loss_history, 'b', markersize=0.5, label='steepest')\n",
    "plt.legend()\n",
    "plt.xlabel('iter')\n",
    "plt.ylabel('loss')\n",
    "plt.show()"
   ]
  },
  {
   "cell_type": "code",
   "execution_count": 212,
   "metadata": {},
   "outputs": [
    {
     "data": {
      "text/plain": [
       "(200,)"
      ]
     },
     "execution_count": 212,
     "metadata": {},
     "output_type": "execute_result"
    }
   ],
   "source": [
    "np.sum(np.dot(xy,xy.T),axis=1).shape"
   ]
  },
  {
   "cell_type": "code",
   "execution_count": 218,
   "metadata": {},
   "outputs": [],
   "source": [
    "p = posterior.reshape(-1,1)"
   ]
  },
  {
   "cell_type": "code",
   "execution_count": 223,
   "metadata": {},
   "outputs": [
    {
     "data": {
      "text/plain": [
       "(200,)"
      ]
     },
     "execution_count": 223,
     "metadata": {},
     "output_type": "execute_result"
    }
   ],
   "source": [
    "np.sum(np.dot(p,p.T),axis=1).shape"
   ]
  },
  {
   "cell_type": "code",
   "execution_count": 197,
   "metadata": {},
   "outputs": [
    {
     "data": {
      "text/plain": [
       "(200, 1)"
      ]
     },
     "execution_count": 197,
     "metadata": {},
     "output_type": "execute_result"
    }
   ],
   "source": [
    "posterior.shape\n",
    "p = posterior.reshape(-1,1)\n",
    "p.shape"
   ]
  },
  {
   "cell_type": "code",
   "execution_count": 199,
   "metadata": {},
   "outputs": [
    {
     "data": {
      "text/plain": [
       "(200, 200)"
      ]
     },
     "execution_count": 199,
     "metadata": {},
     "output_type": "execute_result"
    }
   ],
   "source": [
    "np.dot(p,p.T).shape"
   ]
  },
  {
   "cell_type": "markdown",
   "metadata": {},
   "source": [
    "# newton based method(hessの計算がやばそう"
   ]
  },
  {
   "cell_type": "code",
   "execution_count": 234,
   "metadata": {},
   "outputs": [],
   "source": [
    "#epoch\n",
    "num_iter = N_iter\n",
    "#learning history\n",
    "newton_loss_history = []\n",
    "newton_ww_history = []"
   ]
  },
  {
   "cell_type": "code",
   "execution_count": 235,
   "metadata": {},
   "outputs": [],
   "source": [
    "ww = w_init\n",
    "for t in range(1,num_iter+1):\n",
    "    xy = x*(-y).reshape(-1,1)\n",
    "    posterior = 1/(1+np.exp(np.dot(xy,ww)))\n",
    "    post = posterior.reshape(-1,1)\n",
    "    grad = 1/N*np.sum(np.dot((1-post).T,xy)) + 2*lam*ww\n",
    "    \n",
    "    hess = 1/N*np.sum(np.sum(np.dot(post,post.T),axis=1)* np.sum(np.dot(xy,xy.T),axis=1))+2*lam \n",
    "    loss = 1/N*np.sum(np.log(1+np.exp(np.dot(xy,ww))))+lam*(np.dot(ww.T,ww)+1)\n",
    "    newton_ww_history.append(ww)\n",
    "    newton_loss_history.append(loss)\n",
    "    \n",
    "    #update\n",
    "    ww = ww -grad/hess"
   ]
  },
  {
   "cell_type": "code",
   "execution_count": 236,
   "metadata": {},
   "outputs": [
    {
     "data": {
      "image/png": "[encoded data removed]",
      "text/plain": [
       "<Figure size 432x288 with 1 Axes>"
      ]
     },
     "metadata": {
      "needs_background": "light"
     },
     "output_type": "display_data"
    }
   ],
   "source": [
    "plt.plot( newton_loss_history, 'bo-', linewidth=0.5, markersize=0.5, label='newton')\n",
    "plt.legend()\n",
    "plt.xlabel('iter')\n",
    "plt.ylabel('loss')\n",
    "plt.show()"
   ]
  },
  {
   "cell_type": "markdown",
   "metadata": {},
   "source": [
    "# compare performance"
   ]
  },
  {
   "cell_type": "code",
   "execution_count": 237,
   "metadata": {},
   "outputs": [],
   "source": [
    "optimal_w = min(min(grad_loss_history),min(newton_loss_history))"
   ]
  },
  {
   "cell_type": "code",
   "execution_count": 238,
   "metadata": {},
   "outputs": [
    {
     "data": {
      "image/png": "[encoded data removed]",
      "text/plain": [
       "<Figure size 432x288 with 1 Axes>"
      ]
     },
     "metadata": {
      "needs_background": "light"
     },
     "output_type": "display_data"
    }
   ],
   "source": [
    "plt.plot(np.abs(grad_loss_history-optimal_w,),\"bo-\",markersize=0.5,label=\"grdient descent\")\n",
    "plt.plot(np.abs(newton_loss_history-optimal_w),\"ro-\",markersize=0.5,label=\"newton descent\")\n",
    "plt.legend()\n",
    "plt.yscale(\"log\")\n",
    "plt.xlabel(\"iter\")\n",
    "plt.ylabel(\"Loss diff from the gold weight\")\n",
    "plt.show()"
   ]
  },
  {
   "cell_type": "markdown",
   "metadata": {},
   "source": [
    "# adaptation to Multi class classification"
   ]
  },
  {
   "cell_type": "markdown",
   "metadata": {},
   "source": [
    "## create Data (Toy dataset V)"
   ]
  },
  {
   "cell_type": "code",
   "execution_count": 629,
   "metadata": {},
   "outputs": [],
   "source": [
    "# dataset 5\n",
    "N = 200\n",
    "D=4\n",
    "n_class=3\n",
    "x =3* (np.random.rand(N,3) - 0.5)\n",
    "W_init = np.random.rand(D-1,D-1)\n",
    "y = np.argmax(np.dot(np.hstack([x[:,:2], np.ones((N, 1))]), W.T)\n",
    "                        + 0.5 * np.random.randn(N, n_class), axis=1)"
   ]
  },
  {
   "cell_type": "code",
   "execution_count": 630,
   "metadata": {},
   "outputs": [],
   "source": [
    "from keras.utils import np_utils"
   ]
  },
  {
   "cell_type": "code",
   "execution_count": 631,
   "metadata": {},
   "outputs": [],
   "source": [
    "y_one_hot =np_utils.to_categorical(y)"
   ]
  },
  {
   "cell_type": "code",
   "execution_count": 632,
   "metadata": {},
   "outputs": [],
   "source": [
    "lam = 0.01\n",
    "N_iter=50"
   ]
  },
  {
   "cell_type": "markdown",
   "metadata": {},
   "source": [
    "## Steep Gradient"
   ]
  },
  {
   "cell_type": "code",
   "execution_count": 638,
   "metadata": {},
   "outputs": [],
   "source": [
    "#epoch\n",
    "num_iter = N_iter\n",
    "#learning history\n",
    "steep_loss_history = []\n",
    "steep_ww_history = []"
   ]
  },
  {
   "cell_type": "code",
   "execution_count": 639,
   "metadata": {},
   "outputs": [],
   "source": [
    "ww = W_init\n",
    "for t in range(1,num_iter+1):\n",
    "    posterior = 1/(1+np.exp(-np.dot(y_one_hot.T,(np.dot(x,ww))))) # \\in (N,))\n",
    "    grad = 1/N*np.sum(np.dot((1-posterior),np.dot(x.T,y_one_hot ))) + 2*lam*ww # \\in D\n",
    "    loss =  1/N*np.sum(-np.dot(y_one_hot,ww) + np.max(np.dot(ww,x.T),axis=1))\n",
    "    steep_ww_history.append(ww)\n",
    "    steep_loss_history.append(loss)\n",
    "    #update\n",
    "    ww = ww-alpha_base*grad"
   ]
  },
  {
   "cell_type": "code",
   "execution_count": 640,
   "metadata": {},
   "outputs": [
    {
     "data": {
      "image/png": "[encoded data removed]",
      "text/plain": [
       "<Figure size 432x288 with 1 Axes>"
      ]
     },
     "metadata": {
      "needs_background": "light"
     },
     "output_type": "display_data"
    }
   ],
   "source": [
    "\n",
    "plt.plot(steep_loss_history, 'b', markersize=0.5, label='steepest')\n",
    "plt.legend()\n",
    "plt.xlabel('iter')\n",
    "plt.ylabel('loss')\n",
    "plt.show()"
   ]
  },
  {
   "cell_type": "markdown",
   "metadata": {},
   "source": [
    "## Newton"
   ]
  },
  {
   "cell_type": "code",
   "execution_count": 649,
   "metadata": {},
   "outputs": [],
   "source": [
    "#epoch\n",
    "num_iter = N_iter\n",
    "#learning history\n",
    "newton_loss_history = []\n",
    "newton_ww_history = []"
   ]
  },
  {
   "cell_type": "code",
   "execution_count": 650,
   "metadata": {},
   "outputs": [
    {
     "name": "stderr",
     "output_type": "stream",
     "text": [
      "/Users/ueki/.pyenv/versions/3.7.3/lib/python3.7/site-packages/ipykernel_launcher.py:3: RuntimeWarning: overflow encountered in exp\n",
      "  This is separate from the ipykernel package so we can avoid doing imports until\n"
     ]
    }
   ],
   "source": [
    "ww = W_init\n",
    "for t in range(1,num_iter+1):\n",
    "    posterior = 1/(1+np.exp(-np.dot(y_one_hot.T,(np.dot(x,ww))))) # \\in (N,))\n",
    "    grad = 1/N*np.sum(np.dot((1-posterior),np.dot(x.T,y_one_hot ))) + 2*lam*ww # \\in D\n",
    "    hess = 1/N*np.sum(np.dot(np.dot(posterior.T,(1-posterior)), np.dot(x.T,x)),axis=1)\n",
    "    loss =  1/N*np.sum(-np.dot(y_one_hot,ww) + np.max(np.dot(ww,x.T),axis=1))\n",
    "    newton_ww_history.append(ww)\n",
    "    newton_loss_history.append(loss)\n",
    "    #update\n",
    "    ww = ww-grad/hess"
   ]
  },
  {
   "cell_type": "code",
   "execution_count": 651,
   "metadata": {},
   "outputs": [],
   "source": [
    "hess = 1/N*np.sum(np.dot(np.dot(posterior.T,(1-posterior)), np.dot(x.T,x)),axis=1)"
   ]
  },
  {
   "cell_type": "code",
   "execution_count": 652,
   "metadata": {},
   "outputs": [
    {
     "data": {
      "text/plain": [
       "(3,)"
      ]
     },
     "execution_count": 652,
     "metadata": {},
     "output_type": "execute_result"
    }
   ],
   "source": [
    "hess.shape"
   ]
  },
  {
   "cell_type": "code",
   "execution_count": 653,
   "metadata": {},
   "outputs": [
    {
     "data": {
      "text/plain": [
       "(3, 3)"
      ]
     },
     "execution_count": 653,
     "metadata": {},
     "output_type": "execute_result"
    }
   ],
   "source": [
    "grad.shape"
   ]
  },
  {
   "cell_type": "code",
   "execution_count": 655,
   "metadata": {},
   "outputs": [
    {
     "data": {
      "image/png": "[encoded data removed]",
      "text/plain": [
       "<Figure size 432x288 with 1 Axes>"
      ]
     },
     "metadata": {
      "needs_background": "light"
     },
     "output_type": "display_data"
    }
   ],
   "source": [
    "plt.plot(newton_loss_history, 'b', markersize=0.5, label='steepest')\n",
    "plt.legend()\n",
    "plt.xlabel('iter')\n",
    "plt.ylabel('loss')\n",
    "plt.show()"
   ]
  },
  {
   "cell_type": "code",
   "execution_count": 656,
   "metadata": {},
   "outputs": [],
   "source": [
    "optimal_w = min(min(steep_loss_history),min(newton_loss_history))"
   ]
  },
  {
   "cell_type": "code",
   "execution_count": 657,
   "metadata": {},
   "outputs": [
    {
     "data": {
      "text/plain": [
       "Text(0, 0.5, 'Loss diff from the gold weight')"
      ]
     },
     "execution_count": 657,
     "metadata": {},
     "output_type": "execute_result"
    },
    {
     "data": {
      "image/png": "[encoded data removed]",
      "text/plain": [
       "<Figure size 432x288 with 1 Axes>"
      ]
     },
     "metadata": {
      "needs_background": "light"
     },
     "output_type": "display_data"
    }
   ],
   "source": [
    "plt.plot(np.abs(steep_loss_history-optimal_w),label=\"grdient descent\")\n",
    "plt.plot(np.abs(newton_loss_history-optimal_w),label=\"newton descent\")\n",
    "plt.legend()\n",
    "plt.yscale(\"log\")\n",
    "plt.xlabel(\"iter\")\n",
    "plt.ylabel(\"Loss diff from the gold weight\")"
   ]
  },
  {
   "cell_type": "code",
   "execution_count": null,
   "metadata": {},
   "outputs": [],
   "source": []
  }
 ],
 "metadata": {
  "kernelspec": {
   "display_name": "Python 3",
   "language": "python",
   "name": "python3"
  },
  "language_info": {
   "codemirror_mode": {
    "name": "ipython",
    "version": 3
   },
   "file_extension": ".py",
   "mimetype": "text/x-python",
   "name": "python",
   "nbconvert_exporter": "python",
   "pygments_lexer": "ipython3",
   "version": "3.7.3"
  }
 },
 "nbformat": 4,
 "nbformat_minor": 2
}
