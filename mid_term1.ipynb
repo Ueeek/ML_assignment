{
 "cells": [
  {
   "cell_type": "code",
   "execution_count": 474,
   "metadata": {},
   "outputs": [],
   "source": [
    "import sys\n",
    "sys.path.append(\"/Users/ueki/.pyenv/versions/3.7.3/lib/python3.7/site-packages\")"
   ]
  },
  {
   "cell_type": "code",
   "execution_count": 475,
   "metadata": {},
   "outputs": [],
   "source": [
    "import numpy as np\n",
    "import matplotlib.pyplot as plt\n",
    "from math import ceil"
   ]
  },
  {
   "cell_type": "markdown",
   "metadata": {},
   "source": [
    "## create data"
   ]
  },
  {
   "cell_type": "code",
   "execution_count": 476,
   "metadata": {},
   "outputs": [],
   "source": [
    "# prepare dataset\n",
    "np.random.seed(777)"
   ]
  },
  {
   "cell_type": "code",
   "execution_count": 477,
   "metadata": {},
   "outputs": [],
   "source": [
    "# dataset 4\n",
    "N = 50\n",
    "D=4\n",
    "x = 3 * (np.random.rand(N, 4) - 0.5)\n",
    "y = (2 * x[:, 0] - 1 * x[:,1] + 0.5 + 0.5 * np.random.randn(N)) > 0\n",
    "y = 2 * y -1\n",
    "w_init= np.ones(D)"
   ]
  },
  {
   "cell_type": "code",
   "execution_count": 478,
   "metadata": {},
   "outputs": [],
   "source": [
    "N_iter = 40"
   ]
  },
  {
   "cell_type": "code",
   "execution_count": 479,
   "metadata": {},
   "outputs": [
    {
     "data": {
      "text/plain": [
       "(50,)"
      ]
     },
     "execution_count": 479,
     "metadata": {},
     "output_type": "execute_result"
    }
   ],
   "source": [
    "y.shape"
   ]
  },
  {
   "cell_type": "code",
   "execution_count": 480,
   "metadata": {},
   "outputs": [
    {
     "data": {
      "text/plain": [
       "(50, 4)"
      ]
     },
     "execution_count": 480,
     "metadata": {},
     "output_type": "execute_result"
    }
   ],
   "source": [
    "x.shape"
   ]
  },
  {
   "cell_type": "code",
   "execution_count": 481,
   "metadata": {},
   "outputs": [
    {
     "data": {
      "text/plain": [
       "(4,)"
      ]
     },
     "execution_count": 481,
     "metadata": {},
     "output_type": "execute_result"
    }
   ],
   "source": [
    "w_init.shape"
   ]
  },
  {
   "cell_type": "markdown",
   "metadata": {},
   "source": [
    "# batch steepest gradient method"
   ]
  },
  {
   "cell_type": "code",
   "execution_count": 482,
   "metadata": {},
   "outputs": [],
   "source": [
    "#epoch\n",
    "num_iter = N_iter\n",
    "#重みの初期値\n",
    "lam=0.01"
   ]
  },
  {
   "cell_type": "code",
   "execution_count": 483,
   "metadata": {},
   "outputs": [],
   "source": [
    "#learning rate-> Lipsittsのuppper boundをlrにする\n",
    "alpha_base = 0.01\n",
    "#learning history\n",
    "grad_loss_history = []\n",
    "grad_ww_history = []\n",
    "# lr descent しなくていいから、いらないかも\n",
    "lip = 0.25*np.max(x**2)\n",
    "alpha_base *=1/ lip"
   ]
  },
  {
   "cell_type": "code",
   "execution_count": 484,
   "metadata": {},
   "outputs": [],
   "source": [
    "ww = w_init\n",
    "for t in range(1,num_iter+1):\n",
    "    xy = x*y.reshape(-1,1)\n",
    "    posterior = 1/(1+np.exp(np.dot(-xy,ww))) # (N,1)\n",
    "    grad = np.average(-xy*(1-posterior.reshape(-1,1)),axis=0) + 2*lam*ww #(D,1)\n",
    "    loss = np.average(np.log(1+np.exp(-y*np.dot(ww,x.T))),axis=0)+lam*(np.dot(ww.T,ww)+1) #(scalar)\n",
    "    grad_ww_history.append(ww)\n",
    "    grad_loss_history.append(loss)\n",
    "    #update\n",
    "    ww = ww - alpha_base*grad"
   ]
  },
  {
   "cell_type": "code",
   "execution_count": 485,
   "metadata": {},
   "outputs": [
    {
     "data": {
      "image/png": "[encoded data removed]",
      "text/plain": [
       "<Figure size 432x288 with 1 Axes>"
      ]
     },
     "metadata": {
      "needs_background": "light"
     },
     "output_type": "display_data"
    }
   ],
   "source": [
    "plt.plot(grad_loss_history, 'b', markersize=0.5, label='steepest')\n",
    "plt.legend()\n",
    "plt.xlabel('iter')\n",
    "plt.ylabel('loss')\n",
    "plt.show()"
   ]
  },
  {
   "cell_type": "markdown",
   "metadata": {},
   "source": [
    "# newton based method"
   ]
  },
  {
   "cell_type": "code",
   "execution_count": 489,
   "metadata": {},
   "outputs": [],
   "source": [
    "#epoch\n",
    "num_iter = N_iter\n",
    "#learning history\n",
    "newton_loss_history = []\n",
    "newton_ww_history = []"
   ]
  },
  {
   "cell_type": "code",
   "execution_count": 490,
   "metadata": {},
   "outputs": [],
   "source": [
    "ww = w_init\n",
    "for t in range(1,num_iter+1):\n",
    "    xy = x*y.reshape(-1,1)\n",
    "    posterior = 1/(1+np.exp(np.dot(-xy,ww))) # (N,1)\n",
    "    grad = np.average(-xy*(1-posterior.reshape(-1,1)),axis=0) + 2*lam*ww #(D,1)\n",
    "    loss = np.average(np.log(1+np.exp(-y*np.dot(ww,x.T))),axis=0)+lam*(np.dot(ww.T,ww)+1) # scalar\n",
    "    hess = np.average(np.sum(xy**2,axis=1)*posterior*(1-posterior)) # scalar\n",
    "    newton_ww_history.append(ww)\n",
    "    newton_loss_history.append(loss)\n",
    "    #update\n",
    "    ww = ww - grad/hess"
   ]
  },
  {
   "cell_type": "code",
   "execution_count": 491,
   "metadata": {},
   "outputs": [
    {
     "data": {
      "image/png": "[encoded data removed]",
      "text/plain": [
       "<Figure size 432x288 with 1 Axes>"
      ]
     },
     "metadata": {
      "needs_background": "light"
     },
     "output_type": "display_data"
    }
   ],
   "source": [
    "plt.plot( newton_loss_history, 'bo-', linewidth=0.5, markersize=0.5, label='newton')\n",
    "plt.legend()\n",
    "plt.xlabel('iter')\n",
    "plt.ylabel('loss')\n",
    "plt.show()"
   ]
  },
  {
   "cell_type": "markdown",
   "metadata": {},
   "source": [
    "# compare performance"
   ]
  },
  {
   "cell_type": "code",
   "execution_count": 492,
   "metadata": {},
   "outputs": [],
   "source": [
    "optimal_w = min(min(grad_loss_history),min(newton_loss_history))"
   ]
  },
  {
   "cell_type": "code",
   "execution_count": 493,
   "metadata": {},
   "outputs": [
    {
     "data": {
      "image/png": "[encoded data removed]",
      "text/plain": [
       "<Figure size 432x288 with 1 Axes>"
      ]
     },
     "metadata": {
      "needs_background": "light"
     },
     "output_type": "display_data"
    }
   ],
   "source": [
    "plt.plot(np.abs(grad_loss_history-optimal_w,),\"bo-\",linewidth=0.5,markersize=1,label=\"grdient descent\")\n",
    "plt.plot(np.abs(newton_loss_history-optimal_w),\"ro-\",linewidth=0.5,markersize=1,label=\"newton descent\")\n",
    "plt.legend()\n",
    "plt.yscale(\"log\")\n",
    "plt.xlabel(\"iter\")\n",
    "plt.ylabel(\"Loss diff from the gold weight\")\n",
    "plt.show()"
   ]
  },
  {
   "cell_type": "markdown",
   "metadata": {},
   "source": [
    "# adaptation to Multi class classification"
   ]
  },
  {
   "cell_type": "markdown",
   "metadata": {},
   "source": [
    "## create Data (Toy dataset V)"
   ]
  },
  {
   "cell_type": "code",
   "execution_count": 600,
   "metadata": {},
   "outputs": [],
   "source": [
    "# dataset 5\n",
    "N = 200\n",
    "D=3\n",
    "N_class=4\n",
    "x =3* (np.random.rand(N,D) - 0.5)\n",
    "W_init = np.random.rand(N_class,D)\n",
    "y = np.argmax(np.dot(np.hstack([x[:,:N_class-2],np.ones((N,1))]),W_init.T) + 0.5*np.random.randn(N,N_class),axis=1)"
   ]
  },
  {
   "cell_type": "code",
   "execution_count": 639,
   "metadata": {},
   "outputs": [],
   "source": [
    "def to_categorical(y):\n",
    "    \"\"\"\n",
    "    convert input vector y to one_hot_vector\n",
    "    \"\"\"\n",
    "    size = np.max(y)\n",
    "    y_one_hot = np.identity(size+1)[y]\n",
    "    return y_one_hot"
   ]
  },
  {
   "cell_type": "code",
   "execution_count": 640,
   "metadata": {},
   "outputs": [],
   "source": [
    "y_one_hot = to_categorical(y)"
   ]
  },
  {
   "cell_type": "code",
   "execution_count": 641,
   "metadata": {},
   "outputs": [],
   "source": [
    "lam = 0.01\n",
    "N_iter=50"
   ]
  },
  {
   "cell_type": "markdown",
   "metadata": {},
   "source": [
    "## Steep Gradient"
   ]
  },
  {
   "cell_type": "markdown",
   "metadata": {},
   "source": [
    "### softmax loss"
   ]
  },
  {
   "cell_type": "code",
   "execution_count": 595,
   "metadata": {},
   "outputs": [],
   "source": [
    "def softmax(w):\n",
    "    \"\"\"\n",
    "    paremeter\n",
    "    ----------------\n",
    "        w:  parameter\n",
    "    ----------------\n",
    "    return\n",
    "    -------------\n",
    "        soft_max : vec (N,D)\n",
    "    \"\"\" \n",
    "    w = w.T\n",
    "    exp_y= np.exp(w)\n",
    "    print(exp_y.shape)\n",
    "    exp_sum = np.sum(np.exp(w),axis=0) #　ここは良さそう\n",
    "    print(exp_sum.shape)\n",
    "    ret = exp_y.T / exp_sum.reshape(-1,1)\n",
    "    print(ret.shape)\n",
    "    return ret.T"
   ]
  },
  {
   "cell_type": "code",
   "execution_count": 596,
   "metadata": {},
   "outputs": [
    {
     "data": {
      "text/plain": [
       "(4, 3)"
      ]
     },
     "execution_count": 596,
     "metadata": {},
     "output_type": "execute_result"
    }
   ],
   "source": [
    "W_init.shape"
   ]
  },
  {
   "cell_type": "code",
   "execution_count": 597,
   "metadata": {},
   "outputs": [
    {
     "data": {
      "text/plain": [
       "(200, 3)"
      ]
     },
     "execution_count": 597,
     "metadata": {},
     "output_type": "execute_result"
    }
   ],
   "source": [
    "x.shape"
   ]
  },
  {
   "cell_type": "code",
   "execution_count": 598,
   "metadata": {},
   "outputs": [
    {
     "data": {
      "text/plain": [
       "(200, 4)"
      ]
     },
     "execution_count": 598,
     "metadata": {},
     "output_type": "execute_result"
    }
   ],
   "source": [
    "np.dot(x,W_init.T).shape"
   ]
  },
  {
   "cell_type": "code",
   "execution_count": 599,
   "metadata": {},
   "outputs": [
    {
     "name": "stdout",
     "output_type": "stream",
     "text": [
      "(4, 200)\n",
      "(200,)\n",
      "(200, 4)\n"
     ]
    },
    {
     "data": {
      "text/plain": [
       "array([[0.18072281, 0.27353876, 0.18219611, 0.54458018, 0.18434418,\n",
       "        0.19349767, 0.22078209, 0.45502076, 0.42897061, 0.46370609,\n",
       "        0.33717715, 0.22344765, 0.16615377, 0.11784147, 0.39586304,\n",
       "        0.54857283, 0.56450262, 0.4053663 , 0.46788969, 0.3777702 ,\n",
       "        0.25271974, 0.25001574, 0.20307409, 0.48402017, 0.18324283,\n",
       "        0.21982697, 0.25607935, 0.26580763, 0.38850322, 0.10457522,\n",
       "        0.44901323, 0.13973886, 0.29751579, 0.18436209, 0.24761327,\n",
       "        0.23868559, 0.33907372, 0.14458406, 0.22476142, 0.31686126,\n",
       "        0.29812366, 0.20594406, 0.27050558, 0.12972099, 0.31198148,\n",
       "        0.47999298, 0.43202666, 0.339217  , 0.2795563 , 0.32250075,\n",
       "        0.14313528, 0.34591859, 0.10623781, 0.52304252, 0.2620224 ,\n",
       "        0.39029488, 0.26170651, 0.52527126, 0.25063155, 0.11072133,\n",
       "        0.22987757, 0.32224758, 0.09471475, 0.59147907, 0.12517835,\n",
       "        0.38908276, 0.28899901, 0.17838147, 0.14133217, 0.44236962,\n",
       "        0.36852323, 0.2246975 , 0.27141335, 0.34764568, 0.21746235,\n",
       "        0.26614299, 0.41551977, 0.28274948, 0.17724672, 0.36565011,\n",
       "        0.22698848, 0.34738095, 0.40677386, 0.19201183, 0.16495192,\n",
       "        0.25852037, 0.30481416, 0.5227989 , 0.25477033, 0.15147253,\n",
       "        0.26400419, 0.45371822, 0.27298794, 0.38642371, 0.25900386,\n",
       "        0.2242712 , 0.27534389, 0.2597348 , 0.50806607, 0.39390827,\n",
       "        0.16013415, 0.28819147, 0.16250501, 0.23812036, 0.19504735,\n",
       "        0.4782681 , 0.20341441, 0.39779681, 0.42545702, 0.54461227,\n",
       "        0.58719764, 0.25505359, 0.35163233, 0.21751121, 0.23493371,\n",
       "        0.09803155, 0.4912158 , 0.10912788, 0.47076513, 0.17717031,\n",
       "        0.22538506, 0.21269221, 0.53052217, 0.37851263, 0.09876253,\n",
       "        0.08204167, 0.12281491, 0.46127538, 0.26992307, 0.20814729,\n",
       "        0.19641069, 0.10725411, 0.29004366, 0.23093398, 0.22429798,\n",
       "        0.22441183, 0.08338726, 0.28408544, 0.54075495, 0.24805275,\n",
       "        0.59150362, 0.19941763, 0.55513644, 0.23017326, 0.14543426,\n",
       "        0.43822659, 0.27985523, 0.56120169, 0.20734588, 0.21792056,\n",
       "        0.46586302, 0.29560079, 0.09170313, 0.36947879, 0.2241857 ,\n",
       "        0.33721855, 0.08671577, 0.57020924, 0.11647298, 0.2142605 ,\n",
       "        0.27803745, 0.58122459, 0.23725352, 0.30152024, 0.46682389,\n",
       "        0.08437302, 0.49774408, 0.20479306, 0.08448314, 0.27501101,\n",
       "        0.41348009, 0.24102677, 0.33004463, 0.32441754, 0.186575  ,\n",
       "        0.56905092, 0.3693062 , 0.12983373, 0.2301241 , 0.16355997,\n",
       "        0.45401415, 0.28968099, 0.37888465, 0.15394624, 0.22397622,\n",
       "        0.35029572, 0.31797188, 0.37825748, 0.47003495, 0.1809789 ,\n",
       "        0.16299678, 0.11459582, 0.06881511, 0.21865304, 0.17118231,\n",
       "        0.16221543, 0.26882719, 0.33661606, 0.16490875, 0.45778869],\n",
       "       [0.32300303, 0.31733521, 0.25275655, 0.1465074 , 0.24702575,\n",
       "        0.22458017, 0.16408456, 0.19240201, 0.12230246, 0.20655361,\n",
       "        0.3520447 , 0.16439447, 0.41226969, 0.3657808 , 0.19246861,\n",
       "        0.17362169, 0.13949099, 0.15442756, 0.23474351, 0.28646653,\n",
       "        0.37141828, 0.27738671, 0.37137624, 0.14307184, 0.23508394,\n",
       "        0.39173065, 0.35870844, 0.14725378, 0.24696089, 0.26991746,\n",
       "        0.15956587, 0.29130281, 0.24226605, 0.25081454, 0.14534021,\n",
       "        0.31879343, 0.29665309, 0.39380437, 0.19693946, 0.22924469,\n",
       "        0.29197107, 0.32396582, 0.2038015 , 0.25725072, 0.29009552,\n",
       "        0.22847533, 0.16068555, 0.20614948, 0.21320399, 0.3210516 ,\n",
       "        0.39352546, 0.1796493 , 0.31775256, 0.15134255, 0.32795459,\n",
       "        0.17437185, 0.22414609, 0.21276644, 0.11499494, 0.28188146,\n",
       "        0.37165628, 0.11495155, 0.3235195 , 0.15180416, 0.17185521,\n",
       "        0.18892931, 0.27776787, 0.27039152, 0.25091279, 0.27883681,\n",
       "        0.17697024, 0.27804144, 0.22650142, 0.25540727, 0.27386266,\n",
       "        0.38650343, 0.19346181, 0.24622709, 0.19732283, 0.28721723,\n",
       "        0.34172076, 0.19871853, 0.29161138, 0.14423997, 0.43607458,\n",
       "        0.3668825 , 0.20917663, 0.12908417, 0.16210036, 0.27378694,\n",
       "        0.25862978, 0.14079313, 0.26818501, 0.22199949, 0.34481117,\n",
       "        0.21066113, 0.22467873, 0.19204658, 0.20908672, 0.31184996,\n",
       "        0.3092355 , 0.27903533, 0.32975444, 0.26587771, 0.39213609,\n",
       "        0.2089101 , 0.2614661 , 0.2719982 , 0.2077067 , 0.15417778,\n",
       "        0.15733842, 0.22246671, 0.1990459 , 0.42175617, 0.24124734,\n",
       "        0.23204898, 0.24978928, 0.32495387, 0.16864853, 0.28070026,\n",
       "        0.25919233, 0.29237239, 0.22352657, 0.17371585, 0.32788808,\n",
       "        0.32652423, 0.17298864, 0.1776574 , 0.30946799, 0.2134724 ,\n",
       "        0.32402411, 0.26496951, 0.36674914, 0.14362217, 0.39850704,\n",
       "        0.13541653, 0.22644709, 0.3707159 , 0.12255145, 0.18041916,\n",
       "        0.13936385, 0.14282281, 0.15782893, 0.27098716, 0.23888294,\n",
       "        0.15074271, 0.29144229, 0.11726153, 0.12468444, 0.42455532,\n",
       "        0.24223715, 0.27475416, 0.17908595, 0.16983361, 0.19691172,\n",
       "        0.26499979, 0.20251016, 0.17003351, 0.30457534, 0.15777802,\n",
       "        0.2545095 , 0.12730893, 0.31069544, 0.29546953, 0.1621335 ,\n",
       "        0.28201809, 0.1972559 , 0.25425246, 0.2129048 , 0.27889377,\n",
       "        0.25676494, 0.26347846, 0.23024954, 0.19665132, 0.25494459,\n",
       "        0.16148123, 0.29699978, 0.17386004, 0.24142774, 0.26542133,\n",
       "        0.19190738, 0.17193832, 0.18834912, 0.3531081 , 0.30531063,\n",
       "        0.21027849, 0.33031286, 0.26839857, 0.2311813 , 0.18479724,\n",
       "        0.22866763, 0.15315859, 0.30156548, 0.13118108, 0.23500314,\n",
       "        0.3119035 , 0.21016921, 0.19852255, 0.24685291, 0.21253331],\n",
       "       [0.20204897, 0.16542466, 0.28746506, 0.18318777, 0.29086984,\n",
       "        0.30417456, 0.37961323, 0.1901631 , 0.30017145, 0.16754365,\n",
       "        0.10859658, 0.38150862, 0.13288471, 0.189257  , 0.23242788,\n",
       "        0.14858852, 0.17638924, 0.27138933, 0.14126924, 0.14304917,\n",
       "        0.12970589, 0.22007753, 0.15022728, 0.23174496, 0.30434353,\n",
       "        0.12915132, 0.13866482, 0.37890775, 0.17719676, 0.2922223 ,\n",
       "        0.23392755, 0.25386098, 0.23007333, 0.27900972, 0.39385982,\n",
       "        0.17728337, 0.15256673, 0.1540475 , 0.33732775, 0.22906221,\n",
       "        0.18032187, 0.19739264, 0.30098275, 0.29080631, 0.1710837 ,\n",
       "        0.13744042, 0.24352665, 0.24789694, 0.27216083, 0.13882642,\n",
       "        0.15731954, 0.27921576, 0.24040567, 0.19060976, 0.16519602,\n",
       "        0.25816343, 0.27833762, 0.12544933, 0.44749245, 0.27383826,\n",
       "        0.14326592, 0.39325472, 0.23363225, 0.14381488, 0.41768264,\n",
       "        0.23498684, 0.19227036, 0.26057924, 0.30101076, 0.11509014,\n",
       "        0.2647028 , 0.2312971 , 0.27249457, 0.19355575, 0.23964252,\n",
       "        0.11406105, 0.21792369, 0.23538995, 0.35212183, 0.15091772,\n",
       "        0.16855676, 0.25796702, 0.12120464, 0.43371686, 0.11767071,\n",
       "        0.13244764, 0.26228997, 0.21919371, 0.36641796, 0.26700403,\n",
       "        0.22956667, 0.25680106, 0.21036936, 0.203607  , 0.14871531,\n",
       "        0.31481315, 0.26844852, 0.32150205, 0.13842435, 0.11357887,\n",
       "        0.23023488, 0.19621495, 0.20579903, 0.23101104, 0.13694948,\n",
       "        0.160285  , 0.26810685, 0.14451674, 0.19457238, 0.17403713,\n",
       "        0.14041188, 0.28369506, 0.25063245, 0.10839067, 0.27176894,\n",
       "        0.33568453, 0.11281783, 0.22688091, 0.20853702, 0.24335268,\n",
       "        0.24769663, 0.22463663, 0.11183154, 0.26222339, 0.22917996,\n",
       "        0.23091765, 0.4225394 , 0.20269229, 0.1790334 , 0.31201959,\n",
       "        0.19242061, 0.29038511, 0.11735473, 0.41436726, 0.12177987,\n",
       "        0.43065351, 0.34818497, 0.11758009, 0.21533311, 0.3455993 ,\n",
       "        0.15776012, 0.42995939, 0.16221398, 0.23172881, 0.31247637,\n",
       "        0.25457708, 0.19005551, 0.20703502, 0.45859609, 0.10682377,\n",
       "        0.13198667, 0.19834274, 0.42071365, 0.2789009 , 0.33286599,\n",
       "        0.18499154, 0.38069964, 0.13776165, 0.25291992, 0.39844812,\n",
       "        0.23190032, 0.17895222, 0.19350192, 0.17393083, 0.21761461,\n",
       "        0.28030931, 0.15717239, 0.26089815, 0.36546316, 0.19793491,\n",
       "        0.14883233, 0.24437642, 0.2324543 , 0.26791249, 0.2727353 ,\n",
       "        0.14810504, 0.13862083, 0.41676776, 0.26387561, 0.27450897,\n",
       "        0.19396666, 0.32787863, 0.24372207, 0.18432482, 0.20293907,\n",
       "        0.23970141, 0.13407073, 0.15949119, 0.14012864, 0.37084535,\n",
       "        0.31687209, 0.4552681 , 0.25910947, 0.4412144 , 0.31309399,\n",
       "        0.22105946, 0.28961901, 0.2645039 , 0.29940493, 0.16957494],\n",
       "       [0.29422519, 0.24370136, 0.27758227, 0.12572466, 0.27776023,\n",
       "        0.27774759, 0.23552012, 0.16241413, 0.14855548, 0.16219666,\n",
       "        0.20218157, 0.23064925, 0.28869183, 0.32712074, 0.17924047,\n",
       "        0.12921696, 0.11961714, 0.16881681, 0.15609756, 0.1927141 ,\n",
       "        0.24615608, 0.25252001, 0.27532238, 0.14116303, 0.2773297 ,\n",
       "        0.25929106, 0.24654739, 0.20803084, 0.18733914, 0.33328502,\n",
       "        0.15749335, 0.31509735, 0.23014483, 0.28581366, 0.21318671,\n",
       "        0.26523761, 0.21170647, 0.30756408, 0.24097137, 0.22483184,\n",
       "        0.2295834 , 0.27269748, 0.22471017, 0.32222198, 0.2268393 ,\n",
       "        0.15409127, 0.16376114, 0.20673658, 0.23507887, 0.21762124,\n",
       "        0.30601971, 0.19521635, 0.33560396, 0.13500517, 0.24482699,\n",
       "        0.17716984, 0.23580979, 0.13651297, 0.18688106, 0.33355896,\n",
       "        0.25520023, 0.16954614, 0.3481335 , 0.11290189, 0.2852838 ,\n",
       "        0.18700109, 0.24096276, 0.29064777, 0.30674428, 0.16370343,\n",
       "        0.18980374, 0.26596396, 0.22959066, 0.2033913 , 0.26903246,\n",
       "        0.23329252, 0.17309473, 0.23563348, 0.27330861, 0.19621494,\n",
       "        0.26273399, 0.1959335 , 0.18041012, 0.23003134, 0.2813028 ,\n",
       "        0.24214949, 0.22371923, 0.12892322, 0.21671136, 0.3077365 ,\n",
       "        0.24779937, 0.14868759, 0.24845769, 0.1879698 , 0.24746967,\n",
       "        0.25025453, 0.23152886, 0.22671656, 0.14442286, 0.18066291,\n",
       "        0.30039548, 0.23655825, 0.30194151, 0.2649909 , 0.27586708,\n",
       "        0.15253681, 0.26701264, 0.18568825, 0.1722639 , 0.12717281,\n",
       "        0.11505206, 0.23878464, 0.19868933, 0.25234195, 0.25205002,\n",
       "        0.33423494, 0.1461771 , 0.33903733, 0.15204932, 0.29877675,\n",
       "        0.26772597, 0.27029877, 0.13411972, 0.18554814, 0.34416943,\n",
       "        0.36051645, 0.28165705, 0.15837493, 0.24157555, 0.26636073,\n",
       "        0.28714459, 0.33739127, 0.22585247, 0.21107659, 0.25541511,\n",
       "        0.20951814, 0.34198068, 0.22761857, 0.12136049, 0.22592879,\n",
       "        0.11137241, 0.22780016, 0.12482066, 0.26711077, 0.30320643,\n",
       "        0.15645362, 0.23864697, 0.11450176, 0.20937358, 0.25070035,\n",
       "        0.15991316, 0.23130231, 0.30849727, 0.1817867 , 0.24603659,\n",
       "        0.21279012, 0.33007443, 0.1219956 , 0.32603176, 0.22951336,\n",
       "        0.23555273, 0.11251427, 0.25854912, 0.2290794 , 0.153428  ,\n",
       "        0.35329959, 0.14782762, 0.28005633, 0.3371489 , 0.24816032,\n",
       "        0.18092265, 0.25111835, 0.20725153, 0.21101865, 0.2857451 ,\n",
       "        0.12136282, 0.19507319, 0.27953847, 0.26457255, 0.29650973,\n",
       "        0.1601118 , 0.21050206, 0.18904416, 0.30862083, 0.26777408,\n",
       "        0.19972438, 0.21764453, 0.19385276, 0.15865512, 0.26337851,\n",
       "        0.2914635 , 0.27697749, 0.37050993, 0.20895149, 0.28072056,\n",
       "        0.3048216 , 0.23138459, 0.20035749, 0.28883341, 0.16010306]])"
      ]
     },
     "execution_count": 599,
     "metadata": {},
     "output_type": "execute_result"
    }
   ],
   "source": [
    "posterior = softmax(np.dot(x,W_init.T))\n",
    "posterior"
   ]
  },
  {
   "cell_type": "code",
   "execution_count": 457,
   "metadata": {},
   "outputs": [],
   "source": [
    "def calc_loss(x,w,ans):\n",
    "    \"\"\"\n",
    "    ans: one_hot vector\n",
    "    return\n",
    "    ----------\n",
    "    ret: scalar\n",
    "    \"\"\"\n",
    "    v1 = np.sum((np.dot(y_one_hot,w.T)*x),axis=1)\n",
    "    print(v1.shape)\n",
    "    v2 =np.max(np.dot(x,ww),axis=1)\n",
    "    loss = np.average(-v1+v2)\n",
    "    return loss\n",
    "    "
   ]
  },
  {
   "cell_type": "code",
   "execution_count": 456,
   "metadata": {},
   "outputs": [
    {
     "data": {
      "text/plain": [
       "(200,)"
      ]
     },
     "execution_count": 456,
     "metadata": {},
     "output_type": "execute_result"
    }
   ],
   "source": [
    "np.max(np.dot(x,W_init),axis=1).shape"
   ]
  },
  {
   "cell_type": "code",
   "execution_count": 452,
   "metadata": {},
   "outputs": [
    {
     "data": {
      "text/plain": [
       "(5, 5)"
      ]
     },
     "execution_count": 452,
     "metadata": {},
     "output_type": "execute_result"
    }
   ],
   "source": [
    "W_init.shape"
   ]
  },
  {
   "cell_type": "code",
   "execution_count": 441,
   "metadata": {},
   "outputs": [
    {
     "data": {
      "text/plain": [
       "(200, 5)"
      ]
     },
     "execution_count": 441,
     "metadata": {},
     "output_type": "execute_result"
    }
   ],
   "source": [
    "x.shape"
   ]
  },
  {
   "cell_type": "code",
   "execution_count": 444,
   "metadata": {},
   "outputs": [
    {
     "data": {
      "text/plain": [
       "(200, 5)"
      ]
     },
     "execution_count": 444,
     "metadata": {},
     "output_type": "execute_result"
    }
   ],
   "source": [
    "(np.dot(y_one_hot,W_init)*x).shape"
   ]
  },
  {
   "cell_type": "code",
   "execution_count": 473,
   "metadata": {},
   "outputs": [
    {
     "ename": "ValueError",
     "evalue": "shapes (50,2) and (4,) not aligned: 2 (dim 1) != 4 (dim 0)",
     "output_type": "error",
     "traceback": [
      "\u001b[0;31m---------------------------------------------------------------------------\u001b[0m",
      "\u001b[0;31mValueError\u001b[0m                                Traceback (most recent call last)",
      "\u001b[0;32m<ipython-input-473-9b02dfff6400>\u001b[0m in \u001b[0;36m<module>\u001b[0;34m\u001b[0m\n\u001b[0;32m----> 1\u001b[0;31m \u001b[0mcalc_loss\u001b[0m\u001b[0;34m(\u001b[0m\u001b[0mx\u001b[0m\u001b[0;34m,\u001b[0m\u001b[0mw_init\u001b[0m\u001b[0;34m,\u001b[0m\u001b[0my_one_hot\u001b[0m\u001b[0;34m)\u001b[0m\u001b[0;34m\u001b[0m\u001b[0;34m\u001b[0m\u001b[0m\n\u001b[0m",
      "\u001b[0;32m<ipython-input-457-758dd44b8297>\u001b[0m in \u001b[0;36mcalc_loss\u001b[0;34m(x, w, ans)\u001b[0m\n\u001b[1;32m      6\u001b[0m     \u001b[0mret\u001b[0m\u001b[0;34m:\u001b[0m \u001b[0mscalar\u001b[0m\u001b[0;34m\u001b[0m\u001b[0;34m\u001b[0m\u001b[0m\n\u001b[1;32m      7\u001b[0m     \"\"\"\n\u001b[0;32m----> 8\u001b[0;31m     \u001b[0mv1\u001b[0m \u001b[0;34m=\u001b[0m \u001b[0mnp\u001b[0m\u001b[0;34m.\u001b[0m\u001b[0msum\u001b[0m\u001b[0;34m(\u001b[0m\u001b[0;34m(\u001b[0m\u001b[0mnp\u001b[0m\u001b[0;34m.\u001b[0m\u001b[0mdot\u001b[0m\u001b[0;34m(\u001b[0m\u001b[0my_one_hot\u001b[0m\u001b[0;34m,\u001b[0m\u001b[0mw\u001b[0m\u001b[0;34m.\u001b[0m\u001b[0mT\u001b[0m\u001b[0;34m)\u001b[0m\u001b[0;34m*\u001b[0m\u001b[0mx\u001b[0m\u001b[0;34m)\u001b[0m\u001b[0;34m,\u001b[0m\u001b[0maxis\u001b[0m\u001b[0;34m=\u001b[0m\u001b[0;36m1\u001b[0m\u001b[0;34m)\u001b[0m\u001b[0;34m\u001b[0m\u001b[0;34m\u001b[0m\u001b[0m\n\u001b[0m\u001b[1;32m      9\u001b[0m     \u001b[0mprint\u001b[0m\u001b[0;34m(\u001b[0m\u001b[0mv1\u001b[0m\u001b[0;34m.\u001b[0m\u001b[0mshape\u001b[0m\u001b[0;34m)\u001b[0m\u001b[0;34m\u001b[0m\u001b[0;34m\u001b[0m\u001b[0m\n\u001b[1;32m     10\u001b[0m     \u001b[0mv2\u001b[0m \u001b[0;34m=\u001b[0m\u001b[0mnp\u001b[0m\u001b[0;34m.\u001b[0m\u001b[0mmax\u001b[0m\u001b[0;34m(\u001b[0m\u001b[0mnp\u001b[0m\u001b[0;34m.\u001b[0m\u001b[0mdot\u001b[0m\u001b[0;34m(\u001b[0m\u001b[0mx\u001b[0m\u001b[0;34m,\u001b[0m\u001b[0mww\u001b[0m\u001b[0;34m)\u001b[0m\u001b[0;34m,\u001b[0m\u001b[0maxis\u001b[0m\u001b[0;34m=\u001b[0m\u001b[0;36m1\u001b[0m\u001b[0;34m)\u001b[0m\u001b[0;34m\u001b[0m\u001b[0;34m\u001b[0m\u001b[0m\n",
      "\u001b[0;31mValueError\u001b[0m: shapes (50,2) and (4,) not aligned: 2 (dim 1) != 4 (dim 0)"
     ]
    }
   ],
   "source": [
    "calc_loss(x,w_init,y_one_hot)"
   ]
  },
  {
   "cell_type": "code",
   "execution_count": 460,
   "metadata": {},
   "outputs": [],
   "source": [
    "def calc_grad(w,y_one_hot):\n",
    "    \"\"\"\n",
    "    return\n",
    "    -----------\n",
    "    grad: maxtrix(D,D)\n",
    "    -----------\n",
    "    \"\"\"\"\"\n",
    "    def calc_grad(s):\n",
    "        s = s.reshape(1,-1)\n",
    "        ret = -np.dot(s.T,s)+np.eye(s.shape[1])*s\n",
    "        return ret\n",
    "    \n",
    "    s = softmax(w)\n",
    "    grad = np.average(np.apply_along_axis(calc_grad,axis=1,arr=s),axis=0)\n",
    "    return grad\n",
    "    "
   ]
  },
  {
   "cell_type": "code",
   "execution_count": 490,
   "metadata": {},
   "outputs": [],
   "source": [
    "#epoch\n",
    "num_iter = N_iter\n",
    "#learning history\n",
    "steep_loss_history = []\n",
    "steep_ww_history = []"
   ]
  },
  {
   "cell_type": "code",
   "execution_count": 461,
   "metadata": {},
   "outputs": [
    {
     "ename": "ValueError",
     "evalue": "shapes (200,5) and (4,) not aligned: 5 (dim 1) != 4 (dim 0)",
     "output_type": "error",
     "traceback": [
      "\u001b[0;31m---------------------------------------------------------------------------\u001b[0m",
      "\u001b[0;31mValueError\u001b[0m                                Traceback (most recent call last)",
      "\u001b[0;32m<ipython-input-461-2150105043c8>\u001b[0m in \u001b[0;36m<module>\u001b[0;34m\u001b[0m\n\u001b[1;32m      2\u001b[0m \u001b[0;32mfor\u001b[0m \u001b[0mt\u001b[0m \u001b[0;32min\u001b[0m \u001b[0mrange\u001b[0m\u001b[0;34m(\u001b[0m\u001b[0;36m1\u001b[0m\u001b[0;34m,\u001b[0m\u001b[0mnum_iter\u001b[0m\u001b[0;34m+\u001b[0m\u001b[0;36m1\u001b[0m\u001b[0;34m)\u001b[0m\u001b[0;34m:\u001b[0m\u001b[0;34m\u001b[0m\u001b[0;34m\u001b[0m\u001b[0m\n\u001b[1;32m      3\u001b[0m     \u001b[0mxy\u001b[0m \u001b[0;34m=\u001b[0m \u001b[0mx\u001b[0m\u001b[0;34m*\u001b[0m\u001b[0my\u001b[0m\u001b[0;34m.\u001b[0m\u001b[0mreshape\u001b[0m\u001b[0;34m(\u001b[0m\u001b[0;34m-\u001b[0m\u001b[0;36m1\u001b[0m\u001b[0;34m,\u001b[0m\u001b[0;36m1\u001b[0m\u001b[0;34m)\u001b[0m\u001b[0;34m\u001b[0m\u001b[0;34m\u001b[0m\u001b[0m\n\u001b[0;32m----> 4\u001b[0;31m     \u001b[0mposterior\u001b[0m \u001b[0;34m=\u001b[0m \u001b[0;36m1\u001b[0m\u001b[0;34m/\u001b[0m\u001b[0;34m(\u001b[0m\u001b[0;36m1\u001b[0m\u001b[0;34m+\u001b[0m\u001b[0mnp\u001b[0m\u001b[0;34m.\u001b[0m\u001b[0mexp\u001b[0m\u001b[0;34m(\u001b[0m\u001b[0mnp\u001b[0m\u001b[0;34m.\u001b[0m\u001b[0mdot\u001b[0m\u001b[0;34m(\u001b[0m\u001b[0;34m-\u001b[0m\u001b[0mxy\u001b[0m\u001b[0;34m,\u001b[0m\u001b[0mww\u001b[0m\u001b[0;34m)\u001b[0m\u001b[0;34m)\u001b[0m\u001b[0;34m)\u001b[0m \u001b[0;31m# (N,1)\u001b[0m\u001b[0;34m\u001b[0m\u001b[0;34m\u001b[0m\u001b[0m\n\u001b[0m\u001b[1;32m      5\u001b[0m     \u001b[0mgrad\u001b[0m \u001b[0;34m=\u001b[0m \u001b[0mnp\u001b[0m\u001b[0;34m.\u001b[0m\u001b[0maverage\u001b[0m\u001b[0;34m(\u001b[0m\u001b[0;34m-\u001b[0m\u001b[0mxy\u001b[0m\u001b[0;34m*\u001b[0m\u001b[0;34m(\u001b[0m\u001b[0;36m1\u001b[0m\u001b[0;34m-\u001b[0m\u001b[0mposterior\u001b[0m\u001b[0;34m.\u001b[0m\u001b[0mreshape\u001b[0m\u001b[0;34m(\u001b[0m\u001b[0;34m-\u001b[0m\u001b[0;36m1\u001b[0m\u001b[0;34m,\u001b[0m\u001b[0;36m1\u001b[0m\u001b[0;34m)\u001b[0m\u001b[0;34m)\u001b[0m\u001b[0;34m,\u001b[0m\u001b[0maxis\u001b[0m\u001b[0;34m=\u001b[0m\u001b[0;36m0\u001b[0m\u001b[0;34m)\u001b[0m \u001b[0;34m+\u001b[0m \u001b[0;36m2\u001b[0m\u001b[0;34m*\u001b[0m\u001b[0mlam\u001b[0m\u001b[0;34m*\u001b[0m\u001b[0mww\u001b[0m \u001b[0;31m#(D,1)\u001b[0m\u001b[0;34m\u001b[0m\u001b[0;34m\u001b[0m\u001b[0m\n\u001b[1;32m      6\u001b[0m     \u001b[0mloss\u001b[0m \u001b[0;34m=\u001b[0m \u001b[0mnp\u001b[0m\u001b[0;34m.\u001b[0m\u001b[0maverage\u001b[0m\u001b[0;34m(\u001b[0m\u001b[0mnp\u001b[0m\u001b[0;34m.\u001b[0m\u001b[0mlog\u001b[0m\u001b[0;34m(\u001b[0m\u001b[0;36m1\u001b[0m\u001b[0;34m+\u001b[0m\u001b[0mnp\u001b[0m\u001b[0;34m.\u001b[0m\u001b[0mexp\u001b[0m\u001b[0;34m(\u001b[0m\u001b[0;34m-\u001b[0m\u001b[0my\u001b[0m\u001b[0;34m*\u001b[0m\u001b[0mnp\u001b[0m\u001b[0;34m.\u001b[0m\u001b[0mdot\u001b[0m\u001b[0;34m(\u001b[0m\u001b[0mww\u001b[0m\u001b[0;34m,\u001b[0m\u001b[0mx\u001b[0m\u001b[0;34m.\u001b[0m\u001b[0mT\u001b[0m\u001b[0;34m)\u001b[0m\u001b[0;34m)\u001b[0m\u001b[0;34m)\u001b[0m\u001b[0;34m,\u001b[0m\u001b[0maxis\u001b[0m\u001b[0;34m=\u001b[0m\u001b[0;36m0\u001b[0m\u001b[0;34m)\u001b[0m\u001b[0;34m+\u001b[0m\u001b[0mlam\u001b[0m\u001b[0;34m*\u001b[0m\u001b[0;34m(\u001b[0m\u001b[0mnp\u001b[0m\u001b[0;34m.\u001b[0m\u001b[0mdot\u001b[0m\u001b[0;34m(\u001b[0m\u001b[0mww\u001b[0m\u001b[0;34m.\u001b[0m\u001b[0mT\u001b[0m\u001b[0;34m,\u001b[0m\u001b[0mww\u001b[0m\u001b[0;34m)\u001b[0m\u001b[0;34m+\u001b[0m\u001b[0;36m1\u001b[0m\u001b[0;34m)\u001b[0m \u001b[0;31m#(scalar)\u001b[0m\u001b[0;34m\u001b[0m\u001b[0;34m\u001b[0m\u001b[0m\n",
      "\u001b[0;31mValueError\u001b[0m: shapes (200,5) and (4,) not aligned: 5 (dim 1) != 4 (dim 0)"
     ]
    }
   ],
   "source": [
    "ww = w_init\n",
    "for t in range(1,num_iter+1):\n",
    "    xy = x*y.reshape(-1,1)\n",
    "    posterior = 1/(1+np.exp(np.dot(-xy,ww))) # (N,1)\n",
    "    grad = np.average(-xy*(1-posterior.reshape(-1,1)),axis=0) + 2*lam*ww #(D,1)\n",
    "    loss = np.average(np.log(1+np.exp(-y*np.dot(ww,x.T))),axis=0)+lam*(np.dot(ww.T,ww)+1) #(scalar)\n",
    "    grad_ww_history.append(ww)\n",
    "    grad_loss_history.append(loss)\n",
    "    #update\n",
    "    ww = ww - alpha_base*grad"
   ]
  },
  {
   "cell_type": "code",
   "execution_count": 462,
   "metadata": {},
   "outputs": [
    {
     "name": "stdout",
     "output_type": "stream",
     "text": [
      "(200, 5)\n"
     ]
    },
    {
     "ename": "ValueError",
     "evalue": "operands could not be broadcast together with shapes (200,5) (5,1) ",
     "output_type": "error",
     "traceback": [
      "\u001b[0;31m---------------------------------------------------------------------------\u001b[0m",
      "\u001b[0;31mValueError\u001b[0m                                Traceback (most recent call last)",
      "\u001b[0;32m<ipython-input-462-ce8438d8d285>\u001b[0m in \u001b[0;36m<module>\u001b[0;34m\u001b[0m\n\u001b[1;32m      1\u001b[0m \u001b[0mww\u001b[0m \u001b[0;34m=\u001b[0m \u001b[0mW_init\u001b[0m\u001b[0;34m\u001b[0m\u001b[0;34m\u001b[0m\u001b[0m\n\u001b[1;32m      2\u001b[0m \u001b[0;32mfor\u001b[0m \u001b[0mt\u001b[0m \u001b[0;32min\u001b[0m \u001b[0mrange\u001b[0m\u001b[0;34m(\u001b[0m\u001b[0;36m1\u001b[0m\u001b[0;34m,\u001b[0m\u001b[0mnum_iter\u001b[0m\u001b[0;34m+\u001b[0m\u001b[0;36m1\u001b[0m\u001b[0;34m)\u001b[0m\u001b[0;34m:\u001b[0m\u001b[0;34m\u001b[0m\u001b[0;34m\u001b[0m\u001b[0m\n\u001b[0;32m----> 3\u001b[0;31m     \u001b[0mgrad\u001b[0m \u001b[0;34m=\u001b[0m \u001b[0mcalc_grad\u001b[0m\u001b[0;34m(\u001b[0m\u001b[0mnp\u001b[0m\u001b[0;34m.\u001b[0m\u001b[0mdot\u001b[0m\u001b[0;34m(\u001b[0m\u001b[0mww\u001b[0m\u001b[0;34m,\u001b[0m\u001b[0mx\u001b[0m\u001b[0;34m.\u001b[0m\u001b[0mT\u001b[0m\u001b[0;34m)\u001b[0m\u001b[0;34m,\u001b[0m\u001b[0my_one_hot\u001b[0m\u001b[0;34m)\u001b[0m \u001b[0;34m+\u001b[0m \u001b[0;36m2\u001b[0m\u001b[0;34m*\u001b[0m\u001b[0mlam\u001b[0m\u001b[0;34m*\u001b[0m\u001b[0mww\u001b[0m\u001b[0;34m\u001b[0m\u001b[0;34m\u001b[0m\u001b[0m\n\u001b[0m\u001b[1;32m      4\u001b[0m     \u001b[0mloss\u001b[0m \u001b[0;34m=\u001b[0m \u001b[0mcalc_loss\u001b[0m\u001b[0;34m(\u001b[0m\u001b[0mx\u001b[0m\u001b[0;34m,\u001b[0m\u001b[0mww\u001b[0m\u001b[0;34m,\u001b[0m\u001b[0my_one_hot\u001b[0m\u001b[0;34m)\u001b[0m\u001b[0;34m\u001b[0m\u001b[0;34m\u001b[0m\u001b[0m\n\u001b[1;32m      5\u001b[0m     \u001b[0msteep_ww_history\u001b[0m\u001b[0;34m.\u001b[0m\u001b[0mappend\u001b[0m\u001b[0;34m(\u001b[0m\u001b[0mww\u001b[0m\u001b[0;34m)\u001b[0m\u001b[0;34m\u001b[0m\u001b[0;34m\u001b[0m\u001b[0m\n",
      "\u001b[0;32m<ipython-input-460-d5a25696750d>\u001b[0m in \u001b[0;36mcalc_grad\u001b[0;34m(w, y_one_hot)\u001b[0m\n\u001b[1;32m     11\u001b[0m         \u001b[0;32mreturn\u001b[0m \u001b[0mret\u001b[0m\u001b[0;34m\u001b[0m\u001b[0;34m\u001b[0m\u001b[0m\n\u001b[1;32m     12\u001b[0m \u001b[0;34m\u001b[0m\u001b[0m\n\u001b[0;32m---> 13\u001b[0;31m     \u001b[0ms\u001b[0m \u001b[0;34m=\u001b[0m \u001b[0msoftmax\u001b[0m\u001b[0;34m(\u001b[0m\u001b[0mw\u001b[0m\u001b[0;34m)\u001b[0m\u001b[0;34m\u001b[0m\u001b[0;34m\u001b[0m\u001b[0m\n\u001b[0m\u001b[1;32m     14\u001b[0m     \u001b[0mgrad\u001b[0m \u001b[0;34m=\u001b[0m \u001b[0mnp\u001b[0m\u001b[0;34m.\u001b[0m\u001b[0maverage\u001b[0m\u001b[0;34m(\u001b[0m\u001b[0mnp\u001b[0m\u001b[0;34m.\u001b[0m\u001b[0mapply_along_axis\u001b[0m\u001b[0;34m(\u001b[0m\u001b[0mcalc_grad\u001b[0m\u001b[0;34m,\u001b[0m\u001b[0maxis\u001b[0m\u001b[0;34m=\u001b[0m\u001b[0;36m1\u001b[0m\u001b[0;34m,\u001b[0m\u001b[0marr\u001b[0m\u001b[0;34m=\u001b[0m\u001b[0ms\u001b[0m\u001b[0;34m)\u001b[0m\u001b[0;34m,\u001b[0m\u001b[0maxis\u001b[0m\u001b[0;34m=\u001b[0m\u001b[0;36m0\u001b[0m\u001b[0;34m)\u001b[0m\u001b[0;34m\u001b[0m\u001b[0;34m\u001b[0m\u001b[0m\n\u001b[1;32m     15\u001b[0m     \u001b[0;32mreturn\u001b[0m \u001b[0mgrad\u001b[0m\u001b[0;34m\u001b[0m\u001b[0;34m\u001b[0m\u001b[0m\n",
      "\u001b[0;32m<ipython-input-418-7d3dfc06e84a>\u001b[0m in \u001b[0;36msoftmax\u001b[0;34m(w)\u001b[0m\n\u001b[1;32m     13\u001b[0m     \u001b[0mprint\u001b[0m\u001b[0;34m(\u001b[0m\u001b[0mexp_y\u001b[0m\u001b[0;34m.\u001b[0m\u001b[0mshape\u001b[0m\u001b[0;34m)\u001b[0m\u001b[0;34m\u001b[0m\u001b[0;34m\u001b[0m\u001b[0m\n\u001b[1;32m     14\u001b[0m     \u001b[0mexp_sum\u001b[0m \u001b[0;34m=\u001b[0m \u001b[0mnp\u001b[0m\u001b[0;34m.\u001b[0m\u001b[0msum\u001b[0m\u001b[0;34m(\u001b[0m\u001b[0mnp\u001b[0m\u001b[0;34m.\u001b[0m\u001b[0mexp\u001b[0m\u001b[0;34m(\u001b[0m\u001b[0mw\u001b[0m\u001b[0;34m)\u001b[0m\u001b[0;34m,\u001b[0m\u001b[0maxis\u001b[0m\u001b[0;34m=\u001b[0m\u001b[0;36m0\u001b[0m\u001b[0;34m)\u001b[0m \u001b[0;31m#　ここは良さそう\u001b[0m\u001b[0;34m\u001b[0m\u001b[0;34m\u001b[0m\u001b[0m\n\u001b[0;32m---> 15\u001b[0;31m     \u001b[0mret\u001b[0m \u001b[0;34m=\u001b[0m \u001b[0mexp_y\u001b[0m \u001b[0;34m/\u001b[0m \u001b[0mexp_sum\u001b[0m\u001b[0;34m.\u001b[0m\u001b[0mreshape\u001b[0m\u001b[0;34m(\u001b[0m\u001b[0;34m-\u001b[0m\u001b[0;36m1\u001b[0m\u001b[0;34m,\u001b[0m\u001b[0;36m1\u001b[0m\u001b[0;34m)\u001b[0m\u001b[0;34m\u001b[0m\u001b[0;34m\u001b[0m\u001b[0m\n\u001b[0m\u001b[1;32m     16\u001b[0m     \u001b[0;32mreturn\u001b[0m \u001b[0mret\u001b[0m\u001b[0;34m.\u001b[0m\u001b[0mT\u001b[0m\u001b[0;34m\u001b[0m\u001b[0;34m\u001b[0m\u001b[0m\n",
      "\u001b[0;31mValueError\u001b[0m: operands could not be broadcast together with shapes (200,5) (5,1) "
     ]
    }
   ],
   "source": [
    "ww = W_init\n",
    "for t in range(1,num_iter+1):\n",
    "    grad = calc_grad(np.dot(ww,x.T),y_one_hot) + 2*lam*ww\n",
    "    loss = calc_loss(x,ww,y_one_hot)\n",
    "    steep_ww_history.append(ww)\n",
    "    steep_loss_history.append(loss)\n",
    "    #update\n",
    "    ww = ww-alpha_base*grad"
   ]
  },
  {
   "cell_type": "code",
   "execution_count": 492,
   "metadata": {},
   "outputs": [
    {
     "data": {
      "image/png": "[encoded data removed]",
      "text/plain": [
       "<Figure size 432x288 with 1 Axes>"
      ]
     },
     "metadata": {
      "needs_background": "light"
     },
     "output_type": "display_data"
    }
   ],
   "source": [
    "\n",
    "plt.plot(steep_loss_history, 'b', markersize=0.5, label='steepest')\n",
    "plt.legend()\n",
    "plt.xlabel('iter')\n",
    "plt.ylabel('loss')\n",
    "plt.show()"
   ]
  },
  {
   "cell_type": "markdown",
   "metadata": {},
   "source": [
    "## Newton"
   ]
  },
  {
   "cell_type": "code",
   "execution_count": 649,
   "metadata": {},
   "outputs": [],
   "source": [
    "#epoch\n",
    "num_iter = N_iter\n",
    "#learning history\n",
    "newton_loss_history = []\n",
    "newton_ww_history = []"
   ]
  },
  {
   "cell_type": "code",
   "execution_count": 650,
   "metadata": {},
   "outputs": [
    {
     "name": "stderr",
     "output_type": "stream",
     "text": [
      "/Users/ueki/.pyenv/versions/3.7.3/lib/python3.7/site-packages/ipykernel_launcher.py:3: RuntimeWarning: overflow encountered in exp\n",
      "  This is separate from the ipykernel package so we can avoid doing imports until\n"
     ]
    }
   ],
   "source": [
    "ww = W_init\n",
    "for t in range(1,num_iter+1):\n",
    "    posterior = 1/(1+np.exp(-np.dot(y_one_hot.T,(np.dot(x,ww))))) # \\in (N,))\n",
    "    grad = 1/N*np.sum(np.dot((1-posterior),np.dot(x.T,y_one_hot ))) + 2*lam*ww # \\in D\n",
    "    hess = 1/N*np.sum(np.dot(np.dot(posterior.T,(1-posterior)), np.dot(x.T,x)),axis=1)\n",
    "    loss =  1/N*np.sum(-np.dot(y_one_hot,ww) + np.max(np.dot(ww,x.T),axis=1))\n",
    "    newton_ww_history.append(ww)\n",
    "    newton_loss_history.append(loss)\n",
    "    #update\n",
    "    ww = ww-grad/hess"
   ]
  },
  {
   "cell_type": "code",
   "execution_count": 651,
   "metadata": {},
   "outputs": [],
   "source": [
    "hess = 1/N*np.sum(np.dot(np.dot(posterior.T,(1-posterior)), np.dot(x.T,x)),axis=1)"
   ]
  },
  {
   "cell_type": "code",
   "execution_count": 652,
   "metadata": {},
   "outputs": [
    {
     "data": {
      "text/plain": [
       "(3,)"
      ]
     },
     "execution_count": 652,
     "metadata": {},
     "output_type": "execute_result"
    }
   ],
   "source": [
    "hess.shape"
   ]
  },
  {
   "cell_type": "code",
   "execution_count": 653,
   "metadata": {},
   "outputs": [
    {
     "data": {
      "text/plain": [
       "(3, 3)"
      ]
     },
     "execution_count": 653,
     "metadata": {},
     "output_type": "execute_result"
    }
   ],
   "source": [
    "grad.shape"
   ]
  },
  {
   "cell_type": "code",
   "execution_count": 655,
   "metadata": {},
   "outputs": [
    {
     "data": {
      "image/png": "[encoded data removed]",
      "text/plain": [
       "<Figure size 432x288 with 1 Axes>"
      ]
     },
     "metadata": {
      "needs_background": "light"
     },
     "output_type": "display_data"
    }
   ],
   "source": [
    "plt.plot(newton_loss_history, 'b', markersize=0.5, label='steepest')\n",
    "plt.legend()\n",
    "plt.xlabel('iter')\n",
    "plt.ylabel('loss')\n",
    "plt.show()"
   ]
  },
  {
   "cell_type": "code",
   "execution_count": 656,
   "metadata": {},
   "outputs": [],
   "source": [
    "optimal_w = min(min(steep_loss_history),min(newton_loss_history))"
   ]
  },
  {
   "cell_type": "code",
   "execution_count": 657,
   "metadata": {},
   "outputs": [
    {
     "data": {
      "text/plain": [
       "Text(0, 0.5, 'Loss diff from the gold weight')"
      ]
     },
     "execution_count": 657,
     "metadata": {},
     "output_type": "execute_result"
    },
    {
     "data": {
      "image/png": "[encoded data removed]",
      "text/plain": [
       "<Figure size 432x288 with 1 Axes>"
      ]
     },
     "metadata": {
      "needs_background": "light"
     },
     "output_type": "display_data"
    }
   ],
   "source": [
    "plt.plot(np.abs(steep_loss_history-optimal_w),label=\"grdient descent\")\n",
    "plt.plot(np.abs(newton_loss_history-optimal_w),label=\"newton descent\")\n",
    "plt.legend()\n",
    "plt.yscale(\"log\")\n",
    "plt.xlabel(\"iter\")\n",
    "plt.ylabel(\"Loss diff from the gold weight\")"
   ]
  },
  {
   "cell_type": "code",
   "execution_count": null,
   "metadata": {},
   "outputs": [],
   "source": []
  }
 ],
 "metadata": {
  "kernelspec": {
   "display_name": "Python 3",
   "language": "python",
   "name": "python3"
  },
  "language_info": {
   "codemirror_mode": {
    "name": "ipython",
    "version": 3
   },
   "file_extension": ".py",
   "mimetype": "text/x-python",
   "name": "python",
   "nbconvert_exporter": "python",
   "pygments_lexer": "ipython3",
   "version": "3.7.3"
  }
 },
 "nbformat": 4,
 "nbformat_minor": 2
}
